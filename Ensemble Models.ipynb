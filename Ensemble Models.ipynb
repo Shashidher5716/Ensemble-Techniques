{
 "cells": [
  {
   "cell_type": "code",
   "execution_count": 1,
   "id": "f748598b",
   "metadata": {},
   "outputs": [],
   "source": [
    "# Loading the Libraries\n",
    "\n",
    "import pandas as pd\n",
    "import numpy as np\n",
    "import matplotlib.pyplot as plt\n",
    "import seaborn as sns\n"
   ]
  },
  {
   "cell_type": "code",
   "execution_count": 3,
   "id": "bc3ae55e",
   "metadata": {},
   "outputs": [],
   "source": [
    "# Loading the dataset\n",
    "\n",
    "data = pd.read_excel(r\"C:\\Users\\Shashi\\Model Building\\Ensemble Models\\Coca_Rating_Ensemble.xlsx\")"
   ]
  },
  {
   "cell_type": "code",
   "execution_count": 4,
   "id": "f1a540eb",
   "metadata": {},
   "outputs": [
    {
     "data": {
      "text/html": [
       "<div>\n",
       "<style scoped>\n",
       "    .dataframe tbody tr th:only-of-type {\n",
       "        vertical-align: middle;\n",
       "    }\n",
       "\n",
       "    .dataframe tbody tr th {\n",
       "        vertical-align: top;\n",
       "    }\n",
       "\n",
       "    .dataframe thead th {\n",
       "        text-align: right;\n",
       "    }\n",
       "</style>\n",
       "<table border=\"1\" class=\"dataframe\">\n",
       "  <thead>\n",
       "    <tr style=\"text-align: right;\">\n",
       "      <th></th>\n",
       "      <th>Company</th>\n",
       "      <th>Name</th>\n",
       "      <th>REF</th>\n",
       "      <th>Review</th>\n",
       "      <th>Cocoa_Percent</th>\n",
       "      <th>Company_Location</th>\n",
       "      <th>Rating</th>\n",
       "      <th>Bean_Type</th>\n",
       "      <th>Origin</th>\n",
       "    </tr>\n",
       "  </thead>\n",
       "  <tbody>\n",
       "    <tr>\n",
       "      <th>0</th>\n",
       "      <td>A. Morin</td>\n",
       "      <td>Agua Grande</td>\n",
       "      <td>1876</td>\n",
       "      <td>2016</td>\n",
       "      <td>0.63</td>\n",
       "      <td>France</td>\n",
       "      <td>3.75</td>\n",
       "      <td></td>\n",
       "      <td>Sao Tome</td>\n",
       "    </tr>\n",
       "    <tr>\n",
       "      <th>1</th>\n",
       "      <td>A. Morin</td>\n",
       "      <td>Kpime</td>\n",
       "      <td>1676</td>\n",
       "      <td>2015</td>\n",
       "      <td>0.70</td>\n",
       "      <td>France</td>\n",
       "      <td>2.75</td>\n",
       "      <td></td>\n",
       "      <td>Togo</td>\n",
       "    </tr>\n",
       "    <tr>\n",
       "      <th>2</th>\n",
       "      <td>A. Morin</td>\n",
       "      <td>Atsane</td>\n",
       "      <td>1676</td>\n",
       "      <td>2015</td>\n",
       "      <td>0.70</td>\n",
       "      <td>France</td>\n",
       "      <td>3.00</td>\n",
       "      <td></td>\n",
       "      <td>Togo</td>\n",
       "    </tr>\n",
       "    <tr>\n",
       "      <th>3</th>\n",
       "      <td>A. Morin</td>\n",
       "      <td>Akata</td>\n",
       "      <td>1680</td>\n",
       "      <td>2015</td>\n",
       "      <td>0.70</td>\n",
       "      <td>France</td>\n",
       "      <td>3.50</td>\n",
       "      <td></td>\n",
       "      <td>Togo</td>\n",
       "    </tr>\n",
       "    <tr>\n",
       "      <th>4</th>\n",
       "      <td>A. Morin</td>\n",
       "      <td>Quilla</td>\n",
       "      <td>1704</td>\n",
       "      <td>2015</td>\n",
       "      <td>0.70</td>\n",
       "      <td>France</td>\n",
       "      <td>3.50</td>\n",
       "      <td></td>\n",
       "      <td>Peru</td>\n",
       "    </tr>\n",
       "  </tbody>\n",
       "</table>\n",
       "</div>"
      ],
      "text/plain": [
       "    Company         Name   REF  Review  Cocoa_Percent Company_Location  \\\n",
       "0  A. Morin  Agua Grande  1876    2016           0.63           France   \n",
       "1  A. Morin        Kpime  1676    2015           0.70           France   \n",
       "2  A. Morin       Atsane  1676    2015           0.70           France   \n",
       "3  A. Morin        Akata  1680    2015           0.70           France   \n",
       "4  A. Morin       Quilla  1704    2015           0.70           France   \n",
       "\n",
       "   Rating Bean_Type    Origin  \n",
       "0    3.75            Sao Tome  \n",
       "1    2.75                Togo  \n",
       "2    3.00                Togo  \n",
       "3    3.50                Togo  \n",
       "4    3.50                Peru  "
      ]
     },
     "execution_count": 4,
     "metadata": {},
     "output_type": "execute_result"
    }
   ],
   "source": [
    "# Checking the Head of data\n",
    "\n",
    "data.head()"
   ]
  },
  {
   "cell_type": "code",
   "execution_count": 7,
   "id": "219208ef",
   "metadata": {},
   "outputs": [],
   "source": [
    "# Importing the Libraries\n",
    "\n",
    "import warnings\n",
    "warnings.filterwarnings('ignore')"
   ]
  },
  {
   "cell_type": "code",
   "execution_count": 8,
   "id": "fc6c2373",
   "metadata": {},
   "outputs": [
    {
     "data": {
      "text/plain": [
       "Soma                 47\n",
       "Bonnat               27\n",
       "Fresco               26\n",
       "Pralus               25\n",
       "A. Morin             23\n",
       "                     ..\n",
       "Chocablog             1\n",
       "Marigold's Finest     1\n",
       "Chloe Chocolat        1\n",
       "Chequessett           1\n",
       "Ki' Xocolatl          1\n",
       "Name: Company, Length: 416, dtype: int64"
      ]
     },
     "execution_count": 8,
     "metadata": {},
     "output_type": "execute_result"
    }
   ],
   "source": [
    "# Checking the Value Count\n",
    "\n",
    "data['Company'].value_counts()"
   ]
  },
  {
   "cell_type": "code",
   "execution_count": 9,
   "id": "001de0f0",
   "metadata": {},
   "outputs": [
    {
     "data": {
      "text/plain": [
       "Madagascar                        57\n",
       "Peru                              45\n",
       "Ecuador                           42\n",
       "Dominican Republic                37\n",
       "Venezuela                         21\n",
       "                                  ..\n",
       "Conacado, #213, DR, -C             1\n",
       "Sambirano Valley, #215, MR, MC     1\n",
       "Chuao, #218, MR, MC                1\n",
       "Chuao, #217, DR, MC                1\n",
       "Brazil, Mitzi Blue                 1\n",
       "Name: Name, Length: 1039, dtype: int64"
      ]
     },
     "execution_count": 9,
     "metadata": {},
     "output_type": "execute_result"
    }
   ],
   "source": [
    "data['Name'].value_counts()"
   ]
  },
  {
   "cell_type": "code",
   "execution_count": 11,
   "id": "b3f7bcd1",
   "metadata": {},
   "outputs": [
    {
     "data": {
      "text/plain": [
       "0"
      ]
     },
     "execution_count": 11,
     "metadata": {},
     "output_type": "execute_result"
    }
   ],
   "source": [
    "# Checking the duplicates\n",
    "\n",
    "data.duplicated().sum()"
   ]
  },
  {
   "cell_type": "code",
   "execution_count": 10,
   "id": "7247ac4f",
   "metadata": {},
   "outputs": [
    {
     "data": {
      "text/plain": [
       "Company             0\n",
       "Name                0\n",
       "REF                 0\n",
       "Review              0\n",
       "Cocoa_Percent       0\n",
       "Company_Location    0\n",
       "Rating              0\n",
       "Bean_Type           1\n",
       "Origin              1\n",
       "dtype: int64"
      ]
     },
     "execution_count": 10,
     "metadata": {},
     "output_type": "execute_result"
    }
   ],
   "source": [
    "# Checking the Missing Values\n",
    "\n",
    "data.isna().sum()"
   ]
  },
  {
   "cell_type": "code",
   "execution_count": 13,
   "id": "de475932",
   "metadata": {},
   "outputs": [],
   "source": [
    "# filling the missing values with mean\n",
    "\n",
    "data['Bean_Type'] = data['Bean_Type'].fillna(data['Bean_Type'].mean)\n",
    "data['Origin'] = data['Origin'].fillna(data['Origin'].mean)"
   ]
  },
  {
   "cell_type": "code",
   "execution_count": 14,
   "id": "4c9f292d",
   "metadata": {},
   "outputs": [
    {
     "data": {
      "text/plain": [
       "Company             0\n",
       "Name                0\n",
       "REF                 0\n",
       "Review              0\n",
       "Cocoa_Percent       0\n",
       "Company_Location    0\n",
       "Rating              0\n",
       "Bean_Type           0\n",
       "Origin              0\n",
       "dtype: int64"
      ]
     },
     "execution_count": 14,
     "metadata": {},
     "output_type": "execute_result"
    }
   ],
   "source": [
    "data.isna().sum()"
   ]
  },
  {
   "cell_type": "code",
   "execution_count": 21,
   "id": "32484a06",
   "metadata": {},
   "outputs": [
    {
     "data": {
      "text/html": [
       "<div>\n",
       "<style scoped>\n",
       "    .dataframe tbody tr th:only-of-type {\n",
       "        vertical-align: middle;\n",
       "    }\n",
       "\n",
       "    .dataframe tbody tr th {\n",
       "        vertical-align: top;\n",
       "    }\n",
       "\n",
       "    .dataframe thead th {\n",
       "        text-align: right;\n",
       "    }\n",
       "</style>\n",
       "<table border=\"1\" class=\"dataframe\">\n",
       "  <thead>\n",
       "    <tr style=\"text-align: right;\">\n",
       "      <th></th>\n",
       "      <th>Company</th>\n",
       "      <th>Name</th>\n",
       "      <th>REF</th>\n",
       "      <th>Review</th>\n",
       "      <th>Cocoa_Percent</th>\n",
       "      <th>Company_Location</th>\n",
       "      <th>Rating</th>\n",
       "      <th>Bean_Type</th>\n",
       "      <th>Origin</th>\n",
       "    </tr>\n",
       "  </thead>\n",
       "  <tbody>\n",
       "    <tr>\n",
       "      <th>0</th>\n",
       "      <td>A. Morin</td>\n",
       "      <td>Agua Grande</td>\n",
       "      <td>1876</td>\n",
       "      <td>2016</td>\n",
       "      <td>0.63</td>\n",
       "      <td>France</td>\n",
       "      <td>3.75</td>\n",
       "      <td></td>\n",
       "      <td>Sao Tome</td>\n",
       "    </tr>\n",
       "    <tr>\n",
       "      <th>1</th>\n",
       "      <td>A. Morin</td>\n",
       "      <td>Kpime</td>\n",
       "      <td>1676</td>\n",
       "      <td>2015</td>\n",
       "      <td>0.70</td>\n",
       "      <td>France</td>\n",
       "      <td>2.75</td>\n",
       "      <td></td>\n",
       "      <td>Togo</td>\n",
       "    </tr>\n",
       "    <tr>\n",
       "      <th>2</th>\n",
       "      <td>A. Morin</td>\n",
       "      <td>Atsane</td>\n",
       "      <td>1676</td>\n",
       "      <td>2015</td>\n",
       "      <td>0.70</td>\n",
       "      <td>France</td>\n",
       "      <td>3.00</td>\n",
       "      <td></td>\n",
       "      <td>Togo</td>\n",
       "    </tr>\n",
       "    <tr>\n",
       "      <th>3</th>\n",
       "      <td>A. Morin</td>\n",
       "      <td>Akata</td>\n",
       "      <td>1680</td>\n",
       "      <td>2015</td>\n",
       "      <td>0.70</td>\n",
       "      <td>France</td>\n",
       "      <td>3.50</td>\n",
       "      <td></td>\n",
       "      <td>Togo</td>\n",
       "    </tr>\n",
       "    <tr>\n",
       "      <th>4</th>\n",
       "      <td>A. Morin</td>\n",
       "      <td>Quilla</td>\n",
       "      <td>1704</td>\n",
       "      <td>2015</td>\n",
       "      <td>0.70</td>\n",
       "      <td>France</td>\n",
       "      <td>3.50</td>\n",
       "      <td></td>\n",
       "      <td>Peru</td>\n",
       "    </tr>\n",
       "    <tr>\n",
       "      <th>...</th>\n",
       "      <td>...</td>\n",
       "      <td>...</td>\n",
       "      <td>...</td>\n",
       "      <td>...</td>\n",
       "      <td>...</td>\n",
       "      <td>...</td>\n",
       "      <td>...</td>\n",
       "      <td>...</td>\n",
       "      <td>...</td>\n",
       "    </tr>\n",
       "    <tr>\n",
       "      <th>1790</th>\n",
       "      <td>Zotter</td>\n",
       "      <td>Peru</td>\n",
       "      <td>647</td>\n",
       "      <td>2011</td>\n",
       "      <td>0.70</td>\n",
       "      <td>Austria</td>\n",
       "      <td>3.75</td>\n",
       "      <td></td>\n",
       "      <td>Peru</td>\n",
       "    </tr>\n",
       "    <tr>\n",
       "      <th>1791</th>\n",
       "      <td>Zotter</td>\n",
       "      <td>Congo</td>\n",
       "      <td>749</td>\n",
       "      <td>2011</td>\n",
       "      <td>0.65</td>\n",
       "      <td>Austria</td>\n",
       "      <td>3.00</td>\n",
       "      <td>Forastero</td>\n",
       "      <td>Congo</td>\n",
       "    </tr>\n",
       "    <tr>\n",
       "      <th>1792</th>\n",
       "      <td>Zotter</td>\n",
       "      <td>Kerala State</td>\n",
       "      <td>749</td>\n",
       "      <td>2011</td>\n",
       "      <td>0.65</td>\n",
       "      <td>Austria</td>\n",
       "      <td>3.50</td>\n",
       "      <td>Forastero</td>\n",
       "      <td>India</td>\n",
       "    </tr>\n",
       "    <tr>\n",
       "      <th>1793</th>\n",
       "      <td>Zotter</td>\n",
       "      <td>Kerala State</td>\n",
       "      <td>781</td>\n",
       "      <td>2011</td>\n",
       "      <td>0.62</td>\n",
       "      <td>Austria</td>\n",
       "      <td>3.25</td>\n",
       "      <td></td>\n",
       "      <td>India</td>\n",
       "    </tr>\n",
       "    <tr>\n",
       "      <th>1794</th>\n",
       "      <td>Zotter</td>\n",
       "      <td>Brazil, Mitzi Blue</td>\n",
       "      <td>486</td>\n",
       "      <td>2010</td>\n",
       "      <td>0.65</td>\n",
       "      <td>Austria</td>\n",
       "      <td>3.00</td>\n",
       "      <td></td>\n",
       "      <td>Brazil</td>\n",
       "    </tr>\n",
       "  </tbody>\n",
       "</table>\n",
       "<p>1795 rows × 9 columns</p>\n",
       "</div>"
      ],
      "text/plain": [
       "       Company                Name   REF  Review  Cocoa_Percent  \\\n",
       "0     A. Morin         Agua Grande  1876    2016           0.63   \n",
       "1     A. Morin               Kpime  1676    2015           0.70   \n",
       "2     A. Morin              Atsane  1676    2015           0.70   \n",
       "3     A. Morin               Akata  1680    2015           0.70   \n",
       "4     A. Morin              Quilla  1704    2015           0.70   \n",
       "...        ...                 ...   ...     ...            ...   \n",
       "1790    Zotter                Peru   647    2011           0.70   \n",
       "1791    Zotter               Congo   749    2011           0.65   \n",
       "1792    Zotter        Kerala State   749    2011           0.65   \n",
       "1793    Zotter        Kerala State   781    2011           0.62   \n",
       "1794    Zotter  Brazil, Mitzi Blue   486    2010           0.65   \n",
       "\n",
       "     Company_Location  Rating  Bean_Type    Origin  \n",
       "0              France    3.75             Sao Tome  \n",
       "1              France    2.75                 Togo  \n",
       "2              France    3.00                 Togo  \n",
       "3              France    3.50                 Togo  \n",
       "4              France    3.50                 Peru  \n",
       "...               ...     ...        ...       ...  \n",
       "1790          Austria    3.75                 Peru  \n",
       "1791          Austria    3.00  Forastero     Congo  \n",
       "1792          Austria    3.50  Forastero     India  \n",
       "1793          Austria    3.25                India  \n",
       "1794          Austria    3.00               Brazil  \n",
       "\n",
       "[1795 rows x 9 columns]"
      ]
     },
     "execution_count": 21,
     "metadata": {},
     "output_type": "execute_result"
    }
   ],
   "source": [
    "data"
   ]
  },
  {
   "cell_type": "code",
   "execution_count": 36,
   "id": "1f391040",
   "metadata": {},
   "outputs": [],
   "source": [
    "#data['Bean_Type'] = data['Bean_Type'].astype('str')\n",
    "#data['Bean_Type'] = data['Bean_Type'].replace({\"^\\s*|\\s*$\":\" \"}, regex=True)"
   ]
  },
  {
   "cell_type": "code",
   "execution_count": 39,
   "id": "9215bf58",
   "metadata": {},
   "outputs": [
    {
     "data": {
      "text/html": [
       "<div>\n",
       "<style scoped>\n",
       "    .dataframe tbody tr th:only-of-type {\n",
       "        vertical-align: middle;\n",
       "    }\n",
       "\n",
       "    .dataframe tbody tr th {\n",
       "        vertical-align: top;\n",
       "    }\n",
       "\n",
       "    .dataframe thead th {\n",
       "        text-align: right;\n",
       "    }\n",
       "</style>\n",
       "<table border=\"1\" class=\"dataframe\">\n",
       "  <thead>\n",
       "    <tr style=\"text-align: right;\">\n",
       "      <th></th>\n",
       "      <th>Company</th>\n",
       "      <th>Name</th>\n",
       "      <th>REF</th>\n",
       "      <th>Review</th>\n",
       "      <th>Cocoa_Percent</th>\n",
       "      <th>Company_Location</th>\n",
       "      <th>Rating</th>\n",
       "      <th>Bean_Type</th>\n",
       "      <th>Origin</th>\n",
       "    </tr>\n",
       "  </thead>\n",
       "  <tbody>\n",
       "    <tr>\n",
       "      <th>0</th>\n",
       "      <td>A. Morin</td>\n",
       "      <td>Agua Grande</td>\n",
       "      <td>1876</td>\n",
       "      <td>2016</td>\n",
       "      <td>0.63</td>\n",
       "      <td>France</td>\n",
       "      <td>3.75</td>\n",
       "      <td></td>\n",
       "      <td>Sao Tome</td>\n",
       "    </tr>\n",
       "    <tr>\n",
       "      <th>1</th>\n",
       "      <td>A. Morin</td>\n",
       "      <td>Kpime</td>\n",
       "      <td>1676</td>\n",
       "      <td>2015</td>\n",
       "      <td>0.70</td>\n",
       "      <td>France</td>\n",
       "      <td>2.75</td>\n",
       "      <td></td>\n",
       "      <td>Togo</td>\n",
       "    </tr>\n",
       "    <tr>\n",
       "      <th>2</th>\n",
       "      <td>A. Morin</td>\n",
       "      <td>Atsane</td>\n",
       "      <td>1676</td>\n",
       "      <td>2015</td>\n",
       "      <td>0.70</td>\n",
       "      <td>France</td>\n",
       "      <td>3.00</td>\n",
       "      <td></td>\n",
       "      <td>Togo</td>\n",
       "    </tr>\n",
       "    <tr>\n",
       "      <th>3</th>\n",
       "      <td>A. Morin</td>\n",
       "      <td>Akata</td>\n",
       "      <td>1680</td>\n",
       "      <td>2015</td>\n",
       "      <td>0.70</td>\n",
       "      <td>France</td>\n",
       "      <td>3.50</td>\n",
       "      <td></td>\n",
       "      <td>Togo</td>\n",
       "    </tr>\n",
       "    <tr>\n",
       "      <th>4</th>\n",
       "      <td>A. Morin</td>\n",
       "      <td>Quilla</td>\n",
       "      <td>1704</td>\n",
       "      <td>2015</td>\n",
       "      <td>0.70</td>\n",
       "      <td>France</td>\n",
       "      <td>3.50</td>\n",
       "      <td></td>\n",
       "      <td>Peru</td>\n",
       "    </tr>\n",
       "    <tr>\n",
       "      <th>...</th>\n",
       "      <td>...</td>\n",
       "      <td>...</td>\n",
       "      <td>...</td>\n",
       "      <td>...</td>\n",
       "      <td>...</td>\n",
       "      <td>...</td>\n",
       "      <td>...</td>\n",
       "      <td>...</td>\n",
       "      <td>...</td>\n",
       "    </tr>\n",
       "    <tr>\n",
       "      <th>1790</th>\n",
       "      <td>Zotter</td>\n",
       "      <td>Peru</td>\n",
       "      <td>647</td>\n",
       "      <td>2011</td>\n",
       "      <td>0.70</td>\n",
       "      <td>Austria</td>\n",
       "      <td>3.75</td>\n",
       "      <td></td>\n",
       "      <td>Peru</td>\n",
       "    </tr>\n",
       "    <tr>\n",
       "      <th>1791</th>\n",
       "      <td>Zotter</td>\n",
       "      <td>Congo</td>\n",
       "      <td>749</td>\n",
       "      <td>2011</td>\n",
       "      <td>0.65</td>\n",
       "      <td>Austria</td>\n",
       "      <td>3.00</td>\n",
       "      <td>Forastero</td>\n",
       "      <td>Congo</td>\n",
       "    </tr>\n",
       "    <tr>\n",
       "      <th>1792</th>\n",
       "      <td>Zotter</td>\n",
       "      <td>Kerala State</td>\n",
       "      <td>749</td>\n",
       "      <td>2011</td>\n",
       "      <td>0.65</td>\n",
       "      <td>Austria</td>\n",
       "      <td>3.50</td>\n",
       "      <td>Forastero</td>\n",
       "      <td>India</td>\n",
       "    </tr>\n",
       "    <tr>\n",
       "      <th>1793</th>\n",
       "      <td>Zotter</td>\n",
       "      <td>Kerala State</td>\n",
       "      <td>781</td>\n",
       "      <td>2011</td>\n",
       "      <td>0.62</td>\n",
       "      <td>Austria</td>\n",
       "      <td>3.25</td>\n",
       "      <td></td>\n",
       "      <td>India</td>\n",
       "    </tr>\n",
       "    <tr>\n",
       "      <th>1794</th>\n",
       "      <td>Zotter</td>\n",
       "      <td>Brazil, Mitzi Blue</td>\n",
       "      <td>486</td>\n",
       "      <td>2010</td>\n",
       "      <td>0.65</td>\n",
       "      <td>Austria</td>\n",
       "      <td>3.00</td>\n",
       "      <td></td>\n",
       "      <td>Brazil</td>\n",
       "    </tr>\n",
       "  </tbody>\n",
       "</table>\n",
       "<p>1795 rows × 9 columns</p>\n",
       "</div>"
      ],
      "text/plain": [
       "       Company                Name   REF  Review  Cocoa_Percent  \\\n",
       "0     A. Morin         Agua Grande  1876    2016           0.63   \n",
       "1     A. Morin               Kpime  1676    2015           0.70   \n",
       "2     A. Morin              Atsane  1676    2015           0.70   \n",
       "3     A. Morin               Akata  1680    2015           0.70   \n",
       "4     A. Morin              Quilla  1704    2015           0.70   \n",
       "...        ...                 ...   ...     ...            ...   \n",
       "1790    Zotter                Peru   647    2011           0.70   \n",
       "1791    Zotter               Congo   749    2011           0.65   \n",
       "1792    Zotter        Kerala State   749    2011           0.65   \n",
       "1793    Zotter        Kerala State   781    2011           0.62   \n",
       "1794    Zotter  Brazil, Mitzi Blue   486    2010           0.65   \n",
       "\n",
       "     Company_Location  Rating    Bean_Type    Origin  \n",
       "0              France    3.75               Sao Tome  \n",
       "1              France    2.75                   Togo  \n",
       "2              France    3.00                   Togo  \n",
       "3              France    3.50                   Togo  \n",
       "4              France    3.50                   Peru  \n",
       "...               ...     ...          ...       ...  \n",
       "1790          Austria    3.75                   Peru  \n",
       "1791          Austria    3.00   Forastero      Congo  \n",
       "1792          Austria    3.50   Forastero      India  \n",
       "1793          Austria    3.25                  India  \n",
       "1794          Austria    3.00                 Brazil  \n",
       "\n",
       "[1795 rows x 9 columns]"
      ]
     },
     "execution_count": 39,
     "metadata": {},
     "output_type": "execute_result"
    }
   ],
   "source": [
    "data['Bean_Type'] = data['Bean_Type'].replace({\"\":np.nan}) \n",
    "data"
   ]
  },
  {
   "cell_type": "code",
   "execution_count": 40,
   "id": "9229dcad",
   "metadata": {},
   "outputs": [
    {
     "data": {
      "text/plain": [
       "Company              object\n",
       "Name                 object\n",
       "REF                   int64\n",
       "Review                int64\n",
       "Cocoa_Percent       float64\n",
       "Company_Location     object\n",
       "Rating              float64\n",
       "Bean_Type            object\n",
       "Origin               object\n",
       "dtype: object"
      ]
     },
     "execution_count": 40,
     "metadata": {},
     "output_type": "execute_result"
    }
   ],
   "source": [
    "# Checking the data types\n",
    "\n",
    "data.dtypes"
   ]
  },
  {
   "cell_type": "code",
   "execution_count": 43,
   "id": "256403cf",
   "metadata": {},
   "outputs": [],
   "source": [
    "data = data.astype('string')"
   ]
  },
  {
   "cell_type": "code",
   "execution_count": 41,
   "id": "9b34406c",
   "metadata": {},
   "outputs": [],
   "source": [
    "# Encoder - LabelEncoder\n",
    "\n",
    "from sklearn.preprocessing import LabelEncoder"
   ]
  },
  {
   "cell_type": "code",
   "execution_count": 44,
   "id": "ea313dc9",
   "metadata": {},
   "outputs": [],
   "source": [
    "enc = LabelEncoder()\n",
    "\n",
    "data['Company'] = enc.fit_transform(data['Company'])\n",
    "data['Name'] = enc.fit_transform(data['Name'])\n",
    "data['Company_Location'] = enc.fit_transform(data['Company_Location'])\n",
    "data['Bean_Type'] = enc.fit_transform(data['Bean_Type'])\n",
    "data['Origin'] = enc.fit_transform(data['Origin'])"
   ]
  },
  {
   "cell_type": "code",
   "execution_count": 45,
   "id": "a6cbb3e8",
   "metadata": {},
   "outputs": [
    {
     "data": {
      "text/html": [
       "<div>\n",
       "<style scoped>\n",
       "    .dataframe tbody tr th:only-of-type {\n",
       "        vertical-align: middle;\n",
       "    }\n",
       "\n",
       "    .dataframe tbody tr th {\n",
       "        vertical-align: top;\n",
       "    }\n",
       "\n",
       "    .dataframe thead th {\n",
       "        text-align: right;\n",
       "    }\n",
       "</style>\n",
       "<table border=\"1\" class=\"dataframe\">\n",
       "  <thead>\n",
       "    <tr style=\"text-align: right;\">\n",
       "      <th></th>\n",
       "      <th>Company</th>\n",
       "      <th>Name</th>\n",
       "      <th>REF</th>\n",
       "      <th>Review</th>\n",
       "      <th>Cocoa_Percent</th>\n",
       "      <th>Company_Location</th>\n",
       "      <th>Rating</th>\n",
       "      <th>Bean_Type</th>\n",
       "      <th>Origin</th>\n",
       "    </tr>\n",
       "  </thead>\n",
       "  <tbody>\n",
       "    <tr>\n",
       "      <th>0</th>\n",
       "      <td>0</td>\n",
       "      <td>85</td>\n",
       "      <td>1876</td>\n",
       "      <td>2016</td>\n",
       "      <td>0.63</td>\n",
       "      <td>10</td>\n",
       "      <td>3.75</td>\n",
       "      <td>0</td>\n",
       "      <td>68</td>\n",
       "    </tr>\n",
       "    <tr>\n",
       "      <th>1</th>\n",
       "      <td>0</td>\n",
       "      <td>476</td>\n",
       "      <td>1676</td>\n",
       "      <td>2015</td>\n",
       "      <td>0.7</td>\n",
       "      <td>10</td>\n",
       "      <td>2.75</td>\n",
       "      <td>0</td>\n",
       "      <td>78</td>\n",
       "    </tr>\n",
       "    <tr>\n",
       "      <th>2</th>\n",
       "      <td>0</td>\n",
       "      <td>673</td>\n",
       "      <td>1676</td>\n",
       "      <td>2015</td>\n",
       "      <td>0.7</td>\n",
       "      <td>10</td>\n",
       "      <td>3.0</td>\n",
       "      <td>0</td>\n",
       "      <td>78</td>\n",
       "    </tr>\n",
       "    <tr>\n",
       "      <th>3</th>\n",
       "      <td>0</td>\n",
       "      <td>96</td>\n",
       "      <td>1680</td>\n",
       "      <td>2015</td>\n",
       "      <td>0.7</td>\n",
       "      <td>10</td>\n",
       "      <td>3.5</td>\n",
       "      <td>0</td>\n",
       "      <td>78</td>\n",
       "    </tr>\n",
       "    <tr>\n",
       "      <th>4</th>\n",
       "      <td>0</td>\n",
       "      <td>828</td>\n",
       "      <td>1704</td>\n",
       "      <td>2015</td>\n",
       "      <td>0.7</td>\n",
       "      <td>10</td>\n",
       "      <td>3.5</td>\n",
       "      <td>0</td>\n",
       "      <td>56</td>\n",
       "    </tr>\n",
       "    <tr>\n",
       "      <th>...</th>\n",
       "      <td>...</td>\n",
       "      <td>...</td>\n",
       "      <td>...</td>\n",
       "      <td>...</td>\n",
       "      <td>...</td>\n",
       "      <td>...</td>\n",
       "      <td>...</td>\n",
       "      <td>...</td>\n",
       "      <td>...</td>\n",
       "    </tr>\n",
       "    <tr>\n",
       "      <th>1790</th>\n",
       "      <td>347</td>\n",
       "      <td>767</td>\n",
       "      <td>647</td>\n",
       "      <td>2011</td>\n",
       "      <td>0.7</td>\n",
       "      <td>23</td>\n",
       "      <td>3.75</td>\n",
       "      <td>0</td>\n",
       "      <td>56</td>\n",
       "    </tr>\n",
       "    <tr>\n",
       "      <th>1791</th>\n",
       "      <td>347</td>\n",
       "      <td>216</td>\n",
       "      <td>749</td>\n",
       "      <td>2011</td>\n",
       "      <td>0.65</td>\n",
       "      <td>23</td>\n",
       "      <td>3.0</td>\n",
       "      <td>14</td>\n",
       "      <td>13</td>\n",
       "    </tr>\n",
       "    <tr>\n",
       "      <th>1792</th>\n",
       "      <td>347</td>\n",
       "      <td>466</td>\n",
       "      <td>749</td>\n",
       "      <td>2011</td>\n",
       "      <td>0.65</td>\n",
       "      <td>23</td>\n",
       "      <td>3.5</td>\n",
       "      <td>14</td>\n",
       "      <td>39</td>\n",
       "    </tr>\n",
       "    <tr>\n",
       "      <th>1793</th>\n",
       "      <td>347</td>\n",
       "      <td>466</td>\n",
       "      <td>781</td>\n",
       "      <td>2011</td>\n",
       "      <td>0.62</td>\n",
       "      <td>23</td>\n",
       "      <td>3.25</td>\n",
       "      <td>0</td>\n",
       "      <td>39</td>\n",
       "    </tr>\n",
       "    <tr>\n",
       "      <th>1794</th>\n",
       "      <td>347</td>\n",
       "      <td>82</td>\n",
       "      <td>486</td>\n",
       "      <td>2010</td>\n",
       "      <td>0.65</td>\n",
       "      <td>23</td>\n",
       "      <td>3.0</td>\n",
       "      <td>0</td>\n",
       "      <td>5</td>\n",
       "    </tr>\n",
       "  </tbody>\n",
       "</table>\n",
       "<p>1795 rows × 9 columns</p>\n",
       "</div>"
      ],
      "text/plain": [
       "      Company  Name   REF Review Cocoa_Percent  Company_Location Rating  \\\n",
       "0           0    85  1876   2016          0.63                10   3.75   \n",
       "1           0   476  1676   2015           0.7                10   2.75   \n",
       "2           0   673  1676   2015           0.7                10    3.0   \n",
       "3           0    96  1680   2015           0.7                10    3.5   \n",
       "4           0   828  1704   2015           0.7                10    3.5   \n",
       "...       ...   ...   ...    ...           ...               ...    ...   \n",
       "1790      347   767   647   2011           0.7                23   3.75   \n",
       "1791      347   216   749   2011          0.65                23    3.0   \n",
       "1792      347   466   749   2011          0.65                23    3.5   \n",
       "1793      347   466   781   2011          0.62                23   3.25   \n",
       "1794      347    82   486   2010          0.65                23    3.0   \n",
       "\n",
       "      Bean_Type  Origin  \n",
       "0             0      68  \n",
       "1             0      78  \n",
       "2             0      78  \n",
       "3             0      78  \n",
       "4             0      56  \n",
       "...         ...     ...  \n",
       "1790          0      56  \n",
       "1791         14      13  \n",
       "1792         14      39  \n",
       "1793          0      39  \n",
       "1794          0       5  \n",
       "\n",
       "[1795 rows x 9 columns]"
      ]
     },
     "execution_count": 45,
     "metadata": {},
     "output_type": "execute_result"
    }
   ],
   "source": [
    "data"
   ]
  },
  {
   "cell_type": "code",
   "execution_count": 50,
   "id": "7bd177d0",
   "metadata": {},
   "outputs": [],
   "source": [
    "data = data.astype('float')"
   ]
  },
  {
   "cell_type": "code",
   "execution_count": 51,
   "id": "31f6dd6f",
   "metadata": {},
   "outputs": [],
   "source": [
    "# Standardization - Scaling Min = 0, Max = 1\n",
    "\n",
    "def norm_fun(i):\n",
    "    x = (i - i.min())/(i.max() - i.min())\n",
    "    \n",
    "    return x"
   ]
  },
  {
   "cell_type": "code",
   "execution_count": 52,
   "id": "a6e8b388",
   "metadata": {},
   "outputs": [
    {
     "data": {
      "text/html": [
       "<div>\n",
       "<style scoped>\n",
       "    .dataframe tbody tr th:only-of-type {\n",
       "        vertical-align: middle;\n",
       "    }\n",
       "\n",
       "    .dataframe tbody tr th {\n",
       "        vertical-align: top;\n",
       "    }\n",
       "\n",
       "    .dataframe thead th {\n",
       "        text-align: right;\n",
       "    }\n",
       "</style>\n",
       "<table border=\"1\" class=\"dataframe\">\n",
       "  <thead>\n",
       "    <tr style=\"text-align: right;\">\n",
       "      <th></th>\n",
       "      <th>Company</th>\n",
       "      <th>Name</th>\n",
       "      <th>REF</th>\n",
       "      <th>Review</th>\n",
       "      <th>Cocoa_Percent</th>\n",
       "      <th>Company_Location</th>\n",
       "      <th>Rating</th>\n",
       "      <th>Bean_Type</th>\n",
       "      <th>Origin</th>\n",
       "    </tr>\n",
       "  </thead>\n",
       "  <tbody>\n",
       "    <tr>\n",
       "      <th>count</th>\n",
       "      <td>1795.000000</td>\n",
       "      <td>1795.000000</td>\n",
       "      <td>1795.000000</td>\n",
       "      <td>1795.000000</td>\n",
       "      <td>1795.000000</td>\n",
       "      <td>1795.000000</td>\n",
       "      <td>1795.000000</td>\n",
       "      <td>1795.000000</td>\n",
       "      <td>1795.000000</td>\n",
       "    </tr>\n",
       "    <tr>\n",
       "      <th>mean</th>\n",
       "      <td>0.483708</td>\n",
       "      <td>0.492252</td>\n",
       "      <td>0.529484</td>\n",
       "      <td>0.575032</td>\n",
       "      <td>0.512040</td>\n",
       "      <td>0.670289</td>\n",
       "      <td>0.546483</td>\n",
       "      <td>0.332482</td>\n",
       "      <td>0.465460</td>\n",
       "    </tr>\n",
       "    <tr>\n",
       "      <th>std</th>\n",
       "      <td>0.289912</td>\n",
       "      <td>0.286904</td>\n",
       "      <td>0.283968</td>\n",
       "      <td>0.266110</td>\n",
       "      <td>0.109019</td>\n",
       "      <td>0.308230</td>\n",
       "      <td>0.119516</td>\n",
       "      <td>0.366932</td>\n",
       "      <td>0.300249</td>\n",
       "    </tr>\n",
       "    <tr>\n",
       "      <th>min</th>\n",
       "      <td>0.000000</td>\n",
       "      <td>0.000000</td>\n",
       "      <td>0.000000</td>\n",
       "      <td>0.000000</td>\n",
       "      <td>0.000000</td>\n",
       "      <td>0.000000</td>\n",
       "      <td>0.000000</td>\n",
       "      <td>0.000000</td>\n",
       "      <td>0.000000</td>\n",
       "    </tr>\n",
       "    <tr>\n",
       "      <th>25%</th>\n",
       "      <td>0.222892</td>\n",
       "      <td>0.261561</td>\n",
       "      <td>0.293272</td>\n",
       "      <td>0.363636</td>\n",
       "      <td>0.482759</td>\n",
       "      <td>0.372881</td>\n",
       "      <td>0.468750</td>\n",
       "      <td>0.000000</td>\n",
       "      <td>0.210000</td>\n",
       "    </tr>\n",
       "    <tr>\n",
       "      <th>50%</th>\n",
       "      <td>0.506024</td>\n",
       "      <td>0.498073</td>\n",
       "      <td>0.546482</td>\n",
       "      <td>0.636364</td>\n",
       "      <td>0.482759</td>\n",
       "      <td>0.881356</td>\n",
       "      <td>0.562500</td>\n",
       "      <td>0.170732</td>\n",
       "      <td>0.460000</td>\n",
       "    </tr>\n",
       "    <tr>\n",
       "      <th>75%</th>\n",
       "      <td>0.720482</td>\n",
       "      <td>0.738921</td>\n",
       "      <td>0.768875</td>\n",
       "      <td>0.818182</td>\n",
       "      <td>0.568966</td>\n",
       "      <td>0.881356</td>\n",
       "      <td>0.625000</td>\n",
       "      <td>0.682927</td>\n",
       "      <td>0.705000</td>\n",
       "    </tr>\n",
       "    <tr>\n",
       "      <th>max</th>\n",
       "      <td>1.000000</td>\n",
       "      <td>1.000000</td>\n",
       "      <td>1.000000</td>\n",
       "      <td>1.000000</td>\n",
       "      <td>1.000000</td>\n",
       "      <td>1.000000</td>\n",
       "      <td>1.000000</td>\n",
       "      <td>1.000000</td>\n",
       "      <td>1.000000</td>\n",
       "    </tr>\n",
       "  </tbody>\n",
       "</table>\n",
       "</div>"
      ],
      "text/plain": [
       "           Company         Name          REF       Review  Cocoa_Percent  \\\n",
       "count  1795.000000  1795.000000  1795.000000  1795.000000    1795.000000   \n",
       "mean      0.483708     0.492252     0.529484     0.575032       0.512040   \n",
       "std       0.289912     0.286904     0.283968     0.266110       0.109019   \n",
       "min       0.000000     0.000000     0.000000     0.000000       0.000000   \n",
       "25%       0.222892     0.261561     0.293272     0.363636       0.482759   \n",
       "50%       0.506024     0.498073     0.546482     0.636364       0.482759   \n",
       "75%       0.720482     0.738921     0.768875     0.818182       0.568966   \n",
       "max       1.000000     1.000000     1.000000     1.000000       1.000000   \n",
       "\n",
       "       Company_Location       Rating    Bean_Type       Origin  \n",
       "count       1795.000000  1795.000000  1795.000000  1795.000000  \n",
       "mean           0.670289     0.546483     0.332482     0.465460  \n",
       "std            0.308230     0.119516     0.366932     0.300249  \n",
       "min            0.000000     0.000000     0.000000     0.000000  \n",
       "25%            0.372881     0.468750     0.000000     0.210000  \n",
       "50%            0.881356     0.562500     0.170732     0.460000  \n",
       "75%            0.881356     0.625000     0.682927     0.705000  \n",
       "max            1.000000     1.000000     1.000000     1.000000  "
      ]
     },
     "execution_count": 52,
     "metadata": {},
     "output_type": "execute_result"
    }
   ],
   "source": [
    "data_norm = norm_fun(data)\n",
    "data = pd.DataFrame(data_norm)\n",
    "data.describe()"
   ]
  },
  {
   "cell_type": "code",
   "execution_count": 53,
   "id": "d8407420",
   "metadata": {},
   "outputs": [
    {
     "data": {
      "text/html": [
       "<div>\n",
       "<style scoped>\n",
       "    .dataframe tbody tr th:only-of-type {\n",
       "        vertical-align: middle;\n",
       "    }\n",
       "\n",
       "    .dataframe tbody tr th {\n",
       "        vertical-align: top;\n",
       "    }\n",
       "\n",
       "    .dataframe thead th {\n",
       "        text-align: right;\n",
       "    }\n",
       "</style>\n",
       "<table border=\"1\" class=\"dataframe\">\n",
       "  <thead>\n",
       "    <tr style=\"text-align: right;\">\n",
       "      <th></th>\n",
       "      <th>Company</th>\n",
       "      <th>Name</th>\n",
       "      <th>REF</th>\n",
       "      <th>Review</th>\n",
       "      <th>Cocoa_Percent</th>\n",
       "      <th>Company_Location</th>\n",
       "      <th>Rating</th>\n",
       "      <th>Bean_Type</th>\n",
       "      <th>Origin</th>\n",
       "    </tr>\n",
       "  </thead>\n",
       "  <tbody>\n",
       "    <tr>\n",
       "      <th>Company</th>\n",
       "      <td>1.000000</td>\n",
       "      <td>0.008484</td>\n",
       "      <td>0.059325</td>\n",
       "      <td>0.062321</td>\n",
       "      <td>0.038177</td>\n",
       "      <td>0.012042</td>\n",
       "      <td>-0.052805</td>\n",
       "      <td>0.026419</td>\n",
       "      <td>-0.064124</td>\n",
       "    </tr>\n",
       "    <tr>\n",
       "      <th>Name</th>\n",
       "      <td>0.008484</td>\n",
       "      <td>1.000000</td>\n",
       "      <td>-0.020980</td>\n",
       "      <td>-0.027896</td>\n",
       "      <td>-0.069730</td>\n",
       "      <td>-0.074041</td>\n",
       "      <td>0.027227</td>\n",
       "      <td>0.074260</td>\n",
       "      <td>0.152479</td>\n",
       "    </tr>\n",
       "    <tr>\n",
       "      <th>REF</th>\n",
       "      <td>0.059325</td>\n",
       "      <td>-0.020980</td>\n",
       "      <td>1.000000</td>\n",
       "      <td>0.985076</td>\n",
       "      <td>0.037791</td>\n",
       "      <td>0.201752</td>\n",
       "      <td>0.101030</td>\n",
       "      <td>-0.160464</td>\n",
       "      <td>-0.103876</td>\n",
       "    </tr>\n",
       "    <tr>\n",
       "      <th>Review</th>\n",
       "      <td>0.062321</td>\n",
       "      <td>-0.027896</td>\n",
       "      <td>0.985076</td>\n",
       "      <td>1.000000</td>\n",
       "      <td>0.038177</td>\n",
       "      <td>0.222634</td>\n",
       "      <td>0.099846</td>\n",
       "      <td>-0.169270</td>\n",
       "      <td>-0.113772</td>\n",
       "    </tr>\n",
       "    <tr>\n",
       "      <th>Cocoa_Percent</th>\n",
       "      <td>0.038177</td>\n",
       "      <td>-0.069730</td>\n",
       "      <td>0.037791</td>\n",
       "      <td>0.038177</td>\n",
       "      <td>1.000000</td>\n",
       "      <td>-0.001133</td>\n",
       "      <td>-0.164820</td>\n",
       "      <td>0.013862</td>\n",
       "      <td>-0.011986</td>\n",
       "    </tr>\n",
       "    <tr>\n",
       "      <th>Company_Location</th>\n",
       "      <td>0.012042</td>\n",
       "      <td>-0.074041</td>\n",
       "      <td>0.201752</td>\n",
       "      <td>0.222634</td>\n",
       "      <td>-0.001133</td>\n",
       "      <td>1.000000</td>\n",
       "      <td>-0.023472</td>\n",
       "      <td>-0.048891</td>\n",
       "      <td>-0.060108</td>\n",
       "    </tr>\n",
       "    <tr>\n",
       "      <th>Rating</th>\n",
       "      <td>-0.052805</td>\n",
       "      <td>0.027227</td>\n",
       "      <td>0.101030</td>\n",
       "      <td>0.099846</td>\n",
       "      <td>-0.164820</td>\n",
       "      <td>-0.023472</td>\n",
       "      <td>1.000000</td>\n",
       "      <td>0.107761</td>\n",
       "      <td>-0.019396</td>\n",
       "    </tr>\n",
       "    <tr>\n",
       "      <th>Bean_Type</th>\n",
       "      <td>0.026419</td>\n",
       "      <td>0.074260</td>\n",
       "      <td>-0.160464</td>\n",
       "      <td>-0.169270</td>\n",
       "      <td>0.013862</td>\n",
       "      <td>-0.048891</td>\n",
       "      <td>0.107761</td>\n",
       "      <td>1.000000</td>\n",
       "      <td>0.203825</td>\n",
       "    </tr>\n",
       "    <tr>\n",
       "      <th>Origin</th>\n",
       "      <td>-0.064124</td>\n",
       "      <td>0.152479</td>\n",
       "      <td>-0.103876</td>\n",
       "      <td>-0.113772</td>\n",
       "      <td>-0.011986</td>\n",
       "      <td>-0.060108</td>\n",
       "      <td>-0.019396</td>\n",
       "      <td>0.203825</td>\n",
       "      <td>1.000000</td>\n",
       "    </tr>\n",
       "  </tbody>\n",
       "</table>\n",
       "</div>"
      ],
      "text/plain": [
       "                   Company      Name       REF    Review  Cocoa_Percent  \\\n",
       "Company           1.000000  0.008484  0.059325  0.062321       0.038177   \n",
       "Name              0.008484  1.000000 -0.020980 -0.027896      -0.069730   \n",
       "REF               0.059325 -0.020980  1.000000  0.985076       0.037791   \n",
       "Review            0.062321 -0.027896  0.985076  1.000000       0.038177   \n",
       "Cocoa_Percent     0.038177 -0.069730  0.037791  0.038177       1.000000   \n",
       "Company_Location  0.012042 -0.074041  0.201752  0.222634      -0.001133   \n",
       "Rating           -0.052805  0.027227  0.101030  0.099846      -0.164820   \n",
       "Bean_Type         0.026419  0.074260 -0.160464 -0.169270       0.013862   \n",
       "Origin           -0.064124  0.152479 -0.103876 -0.113772      -0.011986   \n",
       "\n",
       "                  Company_Location    Rating  Bean_Type    Origin  \n",
       "Company                   0.012042 -0.052805   0.026419 -0.064124  \n",
       "Name                     -0.074041  0.027227   0.074260  0.152479  \n",
       "REF                       0.201752  0.101030  -0.160464 -0.103876  \n",
       "Review                    0.222634  0.099846  -0.169270 -0.113772  \n",
       "Cocoa_Percent            -0.001133 -0.164820   0.013862 -0.011986  \n",
       "Company_Location          1.000000 -0.023472  -0.048891 -0.060108  \n",
       "Rating                   -0.023472  1.000000   0.107761 -0.019396  \n",
       "Bean_Type                -0.048891  0.107761   1.000000  0.203825  \n",
       "Origin                   -0.060108 -0.019396   0.203825  1.000000  "
      ]
     },
     "execution_count": 53,
     "metadata": {},
     "output_type": "execute_result"
    }
   ],
   "source": [
    "# Checking the data Correlation\n",
    "\n",
    "data.corr()"
   ]
  },
  {
   "cell_type": "code",
   "execution_count": 55,
   "id": "fe2851e6",
   "metadata": {},
   "outputs": [
    {
     "data": {
      "text/plain": [
       "<AxesSubplot:>"
      ]
     },
     "execution_count": 55,
     "metadata": {},
     "output_type": "execute_result"
    },
    {
     "data": {
      "image/png": "[encoded data removed]",
      "text/plain": [
       "<Figure size 1500x900 with 2 Axes>"
      ]
     },
     "metadata": {},
     "output_type": "display_data"
    }
   ],
   "source": [
    "# Heat map\n",
    "\n",
    "fig = plt.figure(figsize = (15,9))\n",
    "sns.heatmap(data.corr(), cmap='viridis', annot = True) "
   ]
  },
  {
   "cell_type": "code",
   "execution_count": 56,
   "id": "24b5c5ce",
   "metadata": {},
   "outputs": [],
   "source": [
    "# Spliting the data\n",
    "\n",
    "X = data.drop('Rating', axis = 1)\n",
    "Y = data.Rating"
   ]
  },
  {
   "cell_type": "code",
   "execution_count": 57,
   "id": "f7f21f8b",
   "metadata": {},
   "outputs": [],
   "source": [
    "# Importing the Train Test Split\n",
    "\n",
    "from sklearn.model_selection import train_test_split\n",
    "\n",
    "x_train, x_test, y_train, y_test = train_test_split(X, Y, test_size = 0.2, random_state = 0)"
   ]
  },
  {
   "cell_type": "code",
   "execution_count": 59,
   "id": "0c5f5d58",
   "metadata": {},
   "outputs": [],
   "source": [
    "# Binarization - Discritization \n",
    "\n",
    "x_train = (x_train > 0).astype(int)\n",
    "y_train = (y_train > 0).astype(int)\n",
    "\n",
    "x_test = (x_test > 0).astype(int)\n",
    "y_test = (y_test > 0).astype(int)\n",
    "\n",
    "X = (X > 0).astype(int)\n",
    "Y = (Y > 0).astype(int)"
   ]
  },
  {
   "cell_type": "code",
   "execution_count": 60,
   "id": "57e1c4b5",
   "metadata": {},
   "outputs": [
    {
     "data": {
      "text/plain": [
       "0.9977715877437325"
      ]
     },
     "execution_count": 60,
     "metadata": {},
     "output_type": "execute_result"
    }
   ],
   "source": [
    "# Creating the Model\n",
    "\n",
    "from sklearn import tree\n",
    "\n",
    "model = tree.DecisionTreeClassifier()\n",
    "model.fit(x_train, y_train)\n",
    "\n",
    "# Checking the score of\n",
    "model.score(X, Y)"
   ]
  },
  {
   "cell_type": "code",
   "execution_count": 61,
   "id": "48bf40f4",
   "metadata": {},
   "outputs": [
    {
     "data": {
      "text/plain": [
       "0.9972144846796658"
      ]
     },
     "execution_count": 61,
     "metadata": {},
     "output_type": "execute_result"
    }
   ],
   "source": [
    "# Prediction on Test Data\n",
    "y_pred = model.predict(x_test)\n",
    "pd.crosstab(y_pred, y_test)\n",
    "\n",
    "np.mean(y_pred == y_test) # Test Data Accuracy "
   ]
  },
  {
   "cell_type": "code",
   "execution_count": 62,
   "id": "2df6d16b",
   "metadata": {},
   "outputs": [
    {
     "data": {
      "text/plain": [
       "0.9979108635097493"
      ]
     },
     "execution_count": 62,
     "metadata": {},
     "output_type": "execute_result"
    }
   ],
   "source": [
    "# Bagging\n",
    "\n",
    "from sklearn import tree\n",
    "clftree = tree.DecisionTreeClassifier()\n",
    "from sklearn.ensemble import BaggingClassifier\n",
    "\n",
    "\n",
    "bag_clf = BaggingClassifier(base_estimator = clftree, n_estimators = 1000,\n",
    "                            bootstrap = True, n_jobs = 1, random_state = 42)\n",
    "\n",
    "bag_clf.fit(x_train, y_train)\n",
    "\n",
    "from sklearn.metrics import accuracy_score, confusion_matrix\n",
    "\n",
    "# Evaluation on Testing Data\n",
    "confusion_matrix(y_test, bag_clf.predict(x_test))\n",
    "accuracy_score(y_test, bag_clf.predict(x_test))\n",
    "\n",
    "# Evaluation on Training Data\n",
    "confusion_matrix(y_train, bag_clf.predict(x_train))\n",
    "accuracy_score(y_train, bag_clf.predict(x_train))"
   ]
  },
  {
   "cell_type": "code",
   "execution_count": 63,
   "id": "61e6885a",
   "metadata": {},
   "outputs": [
    {
     "data": {
      "text/plain": [
       "0.9979108635097493"
      ]
     },
     "execution_count": 63,
     "metadata": {},
     "output_type": "execute_result"
    }
   ],
   "source": [
    "# Ada Boosting\n",
    "\n",
    "from sklearn.ensemble import AdaBoostClassifier\n",
    "\n",
    "ada_clf = AdaBoostClassifier(learning_rate = 0.02, n_estimators = 5000)\n",
    "\n",
    "ada_clf.fit(x_train, y_train)\n",
    "\n",
    "from sklearn.metrics import accuracy_score, confusion_matrix\n",
    "\n",
    "# Evaluation on Testing Data\n",
    "confusion_matrix(y_test, ada_clf.predict(x_test))\n",
    "accuracy_score(y_test, ada_clf.predict(x_test))\n",
    "\n",
    "# Evaluation on Training Data\n",
    "accuracy_score(y_train, ada_clf.predict(x_train))\n"
   ]
  },
  {
   "cell_type": "code",
   "execution_count": 64,
   "id": "d48b3543",
   "metadata": {},
   "outputs": [
    {
     "data": {
      "text/plain": [
       "0.9972144846796658"
      ]
     },
     "execution_count": 64,
     "metadata": {},
     "output_type": "execute_result"
    }
   ],
   "source": [
    "# Gradient Boosting\n",
    "\n",
    "from sklearn.ensemble import GradientBoostingClassifier\n",
    "\n",
    "boost_clf = GradientBoostingClassifier()\n",
    "\n",
    "boost_clf.fit(x_train, y_train)\n",
    "\n",
    "from sklearn.metrics import accuracy_score, confusion_matrix\n",
    "\n",
    "confusion_matrix(y_test, boost_clf.predict(x_test))\n",
    "accuracy_score(y_test, boost_clf.predict(x_test))"
   ]
  },
  {
   "cell_type": "code",
   "execution_count": 65,
   "id": "d870c967",
   "metadata": {},
   "outputs": [
    {
     "data": {
      "text/plain": [
       "0.9979108635097493"
      ]
     },
     "execution_count": 65,
     "metadata": {},
     "output_type": "execute_result"
    }
   ],
   "source": [
    "# Hyper Tuning - GradientBoosting\n",
    "\n",
    "boost_clf3 = GradientBoostingClassifier(learning_rate = 0.2, n_estimators = 5000, max_depth = 1)\n",
    "boost_clf3.fit(x_train, y_train)\n",
    "\n",
    "from sklearn.metrics import accuracy_score, confusion_matrix\n",
    "\n",
    "# Evaluation on Testing Data\n",
    "confusion_matrix(y_test, boost_clf3.predict(x_test))\n",
    "accuracy_score(y_test, boost_clf3.predict(x_test))\n",
    "\n",
    "# Evaluation on Training Data\n",
    "accuracy_score(y_train, boost_clf3.predict(x_train))"
   ]
  },
  {
   "cell_type": "code",
   "execution_count": 66,
   "id": "b6ba84e5",
   "metadata": {},
   "outputs": [
    {
     "name": "stdout",
     "output_type": "stream",
     "text": [
      "[09:38:08] WARNING: C:/buildkite-agent/builds/buildkite-windows-cpu-autoscaling-group-i-030221e36e1a46bfb-1/xgboost/xgboost-ci-windows/src/learner.cc:767: \n",
      "Parameters: { \"max_depths\" } are not used.\n",
      "\n"
     ]
    },
    {
     "data": {
      "text/plain": [
       "XGBClassifier(base_score=0.5, booster='gbtree', callbacks=None,\n",
       "              colsample_bylevel=1, colsample_bynode=1, colsample_bytree=1,\n",
       "              early_stopping_rounds=None, enable_categorical=False,\n",
       "              eval_metric=None, feature_types=None, gamma=0, gpu_id=-1,\n",
       "              grow_policy='depthwise', importance_type=None,\n",
       "              interaction_constraints='', learning_rate=0.3, max_bin=256,\n",
       "              max_cat_threshold=64, max_cat_to_onehot=4, max_delta_step=0,\n",
       "              max_depth=6, max_depths=5, max_leaves=0, min_child_weight=1,\n",
       "              missing=nan, monotone_constraints='()', n_estimators=10000,\n",
       "              n_jobs=-1, num_parallel_tree=1, predictor='auto', ...)"
      ]
     },
     "execution_count": 66,
     "metadata": {},
     "output_type": "execute_result"
    }
   ],
   "source": [
    "# xgboost - want output to be numeric\n",
    "\n",
    "import xgboost as xgb\n",
    "\n",
    "xgb_clf = xgb.XGBClassifier(max_depths = 5, n_estimators = 10000, learning_rate = 0.3, n_jobs = -1)\n",
    "\n",
    "# n_jobs – Number of parallel threads used to run xgboost.\n",
    "# learning_rate (float) – Boosting learning rate (xgb’s “eta”)\n",
    "\n",
    "\n",
    "xgb_clf.fit(x_train, y_train)"
   ]
  },
  {
   "cell_type": "code",
   "execution_count": 67,
   "id": "439fcc12",
   "metadata": {},
   "outputs": [
    {
     "data": {
      "text/plain": [
       "0.9972144846796658"
      ]
     },
     "execution_count": 67,
     "metadata": {},
     "output_type": "execute_result"
    }
   ],
   "source": [
    "from sklearn.metrics import accuracy_score, confusion_matrix\n",
    "\n",
    "# Evaluation on Testing Data\n",
    "confusion_matrix(y_test, xgb_clf.predict(x_test))\n",
    "accuracy_score(y_test, xgb_clf.predict(x_test))\n"
   ]
  },
  {
   "cell_type": "code",
   "execution_count": 69,
   "id": "424c06ba",
   "metadata": {},
   "outputs": [
    {
     "data": {
      "text/plain": [
       "0.9972144846796658"
      ]
     },
     "execution_count": 69,
     "metadata": {},
     "output_type": "execute_result"
    }
   ],
   "source": [
    "# GridsearchCV\n",
    "xgb_clf = xgb.XGBClassifier(n_estimators = 500, learning_rate = 0.1, random_state = 42)\n",
    "\n",
    "param_test1 = {'max_depth': range(3,10,2), 'gamma': [0.1, 0.2, 0.3],\n",
    "               'subsample': [0.8, 0.9], 'colsample_bytree': [0.8, 0,9],\n",
    "               'reg_alpha': [1e-2, 0.1, 1]}\n",
    "\n",
    "# Grid Search\n",
    "from sklearn.model_selection import GridSearchCV\n",
    "grid_search = GridSearchCV(xgb_clf, param_test1, n_jobs = -1, cv = 5, scoring = 'accuracy')\n",
    "\n",
    "grid_search.fit(x_train, y_train)\n",
    "\n",
    "grid_search.best_params_\n",
    "cv_xg_clf = grid_search.best_estimator_\n",
    "\n",
    "# Evaluation on Testing Data with model with hyperparameter\n",
    "accuracy_score(y_test, cv_xg_clf.predict(x_test))\n",
    "\n"
   ]
  },
  {
   "cell_type": "code",
   "execution_count": 70,
   "id": "48da6c99",
   "metadata": {},
   "outputs": [
    {
     "data": {
      "text/plain": [
       "KNeighborsClassifier(n_neighbors=1)"
      ]
     },
     "execution_count": 70,
     "metadata": {},
     "output_type": "execute_result"
    }
   ],
   "source": [
    "### k-Nearest Neighbors (k-NN) with GridSearchCV\n",
    "from sklearn.neighbors import KNeighborsClassifier\n",
    "\n",
    "knn = KNeighborsClassifier()\n",
    "\n",
    "params_knn = {'n_neighbors': np.arange(1, 25)}\n",
    "\n",
    "knn_gs = GridSearchCV(knn, params_knn, cv = 5)\n",
    "\n",
    "knn_gs.fit(x_train, y_train)\n",
    "knn_best = knn_gs.best_estimator_\n",
    "knn_best"
   ]
  },
  {
   "cell_type": "code",
   "execution_count": 71,
   "id": "104eb55e",
   "metadata": {},
   "outputs": [],
   "source": [
    "### Random Forest Classifier with GridSearchCV\n",
    "\n",
    "from sklearn import datasets, linear_model, svm, neighbors, naive_bayes, ensemble\n",
    "\n",
    "rf = ensemble.RandomForestClassifier(random_state = 0)\n",
    "\n",
    "params_rf = {'n_estimators': [50, 100, 200]}\n",
    "\n",
    "rf_gs = GridSearchCV(rf, params_rf, cv = 5)\n",
    "\n",
    "rf_gs.fit(x_train, y_train)\n",
    "rf_best = rf_gs.best_estimator_"
   ]
  },
  {
   "cell_type": "code",
   "execution_count": 72,
   "id": "5abb72ea",
   "metadata": {},
   "outputs": [],
   "source": [
    "### Logistic Regression with GridSearchCV\n",
    "log_reg = linear_model.LogisticRegression(random_state = 123, solver = \"liblinear\", \n",
    "                                          penalty = \"l2\", max_iter = 5000)\n",
    "C = np.logspace(1, 4, 10)\n",
    "params_lr = dict(C = C)\n",
    "\n",
    "lr_gs = GridSearchCV(log_reg, params_lr, cv = 5, verbose = 0)\n",
    "\n",
    "lr_gs.fit(x_train, y_train)\n",
    "lr_best = lr_gs.best_estimator_"
   ]
  },
  {
   "cell_type": "code",
   "execution_count": 73,
   "id": "5998d9e8",
   "metadata": {},
   "outputs": [],
   "source": [
    "# Combine all three Voting Ensembles\n",
    "\n",
    "from sklearn.ensemble import VotingClassifier\n",
    "\n",
    "estimators = [('knn', knn_best), ('rf', rf_best), ('log_reg', lr_best)]\n",
    "\n",
    "# Instantiate the voting classifier\n",
    "ensemble_H = VotingClassifier(estimators, voting = \"hard\")\n",
    "\n",
    "# Fit classifier with the training data\n",
    "hard_voting = ensemble_H.fit(x_train, y_train)"
   ]
  },
  {
   "cell_type": "code",
   "execution_count": 74,
   "id": "579f3ea7",
   "metadata": {},
   "outputs": [
    {
     "data": {
      "text/plain": [
       "VotingClassifier(estimators=[('knn', KNeighborsClassifier(n_neighbors=1)),\n",
       "                             ('rf',\n",
       "                              RandomForestClassifier(n_estimators=50,\n",
       "                                                     random_state=0)),\n",
       "                             ('log_reg',\n",
       "                              LogisticRegression(C=10.0, max_iter=5000,\n",
       "                                                 random_state=123,\n",
       "                                                 solver='liblinear'))])"
      ]
     },
     "execution_count": 74,
     "metadata": {},
     "output_type": "execute_result"
    }
   ],
   "source": [
    "# Save the voting classifier\n",
    "\n",
    "import pickle\n",
    "\n",
    "pickle.dump(hard_voting, open('hard_voting.pkl', 'wb'))\n",
    "\n",
    "# Loading a saved model\n",
    "model = pickle.load(open('hard_voting.pkl', 'rb'))\n",
    "model"
   ]
  },
  {
   "cell_type": "code",
   "execution_count": 75,
   "id": "11236db9",
   "metadata": {},
   "outputs": [
    {
     "name": "stdout",
     "output_type": "stream",
     "text": [
      "knn_gs.score:  0.9972144846796658\n",
      "rf_gs.score:  0.9972144846796658\n",
      "log_reg.score:  0.9972144846796658\n"
     ]
    }
   ],
   "source": [
    "print(\"knn_gs.score: \", knn_best.score(x_test, y_test))\n",
    "# Output: knn_gs.score:\n",
    "\n",
    "print(\"rf_gs.score: \", rf_best.score(x_test, y_test))\n",
    "# Output: rf_gs.score:\n",
    "\n",
    "print(\"log_reg.score: \", lr_best.score(x_test, y_test))\n",
    "# Output: log_reg.score:"
   ]
  },
  {
   "cell_type": "code",
   "execution_count": 76,
   "id": "4084d4b2",
   "metadata": {},
   "outputs": [
    {
     "name": "stdout",
     "output_type": "stream",
     "text": [
      "ensemble.score:  0.9972144846796658\n"
     ]
    }
   ],
   "source": [
    "print(\"ensemble.score: \", ensemble_H.score(x_test, y_test))\n",
    "# Output: ensemble.score:"
   ]
  },
  {
   "cell_type": "code",
   "execution_count": 77,
   "id": "7573fd64",
   "metadata": {},
   "outputs": [],
   "source": [
    "# Soft Voting\n",
    "\n",
    "# Combine all 3 models using VotingClassifier with voting = \"soft\" parameter\n",
    "estimators = [('knn', knn_best), ('rf', rf_best), ('log_reg', lr_best)]\n",
    "\n",
    "ensemble_S = VotingClassifier(estimators, voting = \"soft\")\n",
    "\n",
    "soft_voting = ensemble_S.fit(x_train, y_train)"
   ]
  },
  {
   "cell_type": "code",
   "execution_count": 78,
   "id": "a70600e5",
   "metadata": {},
   "outputs": [
    {
     "data": {
      "text/plain": [
       "VotingClassifier(estimators=[('knn', KNeighborsClassifier(n_neighbors=1)),\n",
       "                             ('rf',\n",
       "                              RandomForestClassifier(n_estimators=50,\n",
       "                                                     random_state=0)),\n",
       "                             ('log_reg',\n",
       "                              LogisticRegression(C=10.0, max_iter=5000,\n",
       "                                                 random_state=123,\n",
       "                                                 solver='liblinear'))],\n",
       "                 voting='soft')"
      ]
     },
     "execution_count": 78,
     "metadata": {},
     "output_type": "execute_result"
    }
   ],
   "source": [
    "# Soft Voting\n",
    "\n",
    "# Save model\n",
    "pickle.dump(soft_voting, open('soft_voting.pkl', 'wb'))\n",
    "\n",
    "\n",
    "# Load the saved model\n",
    "model = pickle.load(open('soft_voting.pkl', 'rb'))\n",
    "model"
   ]
  },
  {
   "cell_type": "code",
   "execution_count": 79,
   "id": "2ca9c6ee",
   "metadata": {},
   "outputs": [
    {
     "name": "stdout",
     "output_type": "stream",
     "text": [
      "knn_gs.score:  0.9972144846796658\n",
      "rf_gs.score:  0.9972144846796658\n",
      "log_reg.score:  0.9972144846796658\n"
     ]
    }
   ],
   "source": [
    "print(\"knn_gs.score: \", knn_gs.score(x_test, y_test))\n",
    "# Output: knn_gs.score:\n",
    "\n",
    "print(\"rf_gs.score: \", rf_gs.score(x_test, y_test))\n",
    "# Output: rf_gs.score:\n",
    "\n",
    "print(\"log_reg.score: \", lr_gs.score(x_test, y_test))\n",
    "# Output: log_reg.score:"
   ]
  },
  {
   "cell_type": "code",
   "execution_count": 80,
   "id": "408a33bc",
   "metadata": {},
   "outputs": [
    {
     "name": "stdout",
     "output_type": "stream",
     "text": [
      "ensemble.score:  0.9972144846796658\n"
     ]
    }
   ],
   "source": [
    "print(\"ensemble.score: \", ensemble_S.score(x_test, y_test))\n",
    "# Output: ensemble.score: AVG or WT.AVG"
   ]
  },
  {
   "cell_type": "code",
   "execution_count": 81,
   "id": "3dd0bf71",
   "metadata": {},
   "outputs": [],
   "source": [
    "# Import Libraries\n",
    "\n",
    "from sklearn.ensemble import RandomForestClassifier\n",
    "from sklearn.svm import LinearSVC\n",
    "from sklearn.linear_model import LogisticRegression\n",
    "from sklearn.preprocessing import StandardScaler\n",
    "from sklearn.pipeline import make_pipeline\n",
    "from sklearn.ensemble import StackingClassifier\n",
    "from sklearn.model_selection import train_test_split\n",
    "from sklearn import metrics"
   ]
  },
  {
   "cell_type": "code",
   "execution_count": 82,
   "id": "1a5a71d9",
   "metadata": {},
   "outputs": [],
   "source": [
    "# Stacking\n",
    "\n",
    "# Base estimators\n",
    "\n",
    "estimators = [('rf', RandomForestClassifier(n_estimators = 10, random_state = 42)),\n",
    "              ('svr', make_pipeline(StandardScaler(), LinearSVC(random_state = 42)))]"
   ]
  },
  {
   "cell_type": "code",
   "execution_count": 83,
   "id": "762a3da0",
   "metadata": {},
   "outputs": [],
   "source": [
    "# Meta Model stacked on top of base estimators\n",
    "\n",
    "clf = StackingClassifier(estimators = estimators, final_estimator = LogisticRegression())"
   ]
  },
  {
   "cell_type": "code",
   "execution_count": 84,
   "id": "ba121421",
   "metadata": {},
   "outputs": [],
   "source": [
    "# Fit the model on traing data\n",
    "\n",
    "stacking = clf.fit(x_train, y_train)"
   ]
  },
  {
   "cell_type": "code",
   "execution_count": 85,
   "id": "da40d076",
   "metadata": {},
   "outputs": [
    {
     "data": {
      "text/plain": [
       "0.9972144846796658"
      ]
     },
     "execution_count": 85,
     "metadata": {},
     "output_type": "execute_result"
    }
   ],
   "source": [
    "# Accuracy\n",
    "\n",
    "stacking.score(x_test, y_test)"
   ]
  },
  {
   "cell_type": "code",
   "execution_count": 86,
   "id": "771b78e8",
   "metadata": {},
   "outputs": [],
   "source": [
    "# Save the Stacking model \n",
    "pickle.dump(stacking, open('stacking_Cocoa.pkl', 'wb'))"
   ]
  },
  {
   "cell_type": "code",
   "execution_count": 87,
   "id": "53f7bb08",
   "metadata": {},
   "outputs": [
    {
     "data": {
      "text/plain": [
       "StackingClassifier(estimators=[('rf',\n",
       "                                RandomForestClassifier(n_estimators=10,\n",
       "                                                       random_state=42)),\n",
       "                               ('svr',\n",
       "                                Pipeline(steps=[('standardscaler',\n",
       "                                                 StandardScaler()),\n",
       "                                                ('linearsvc',\n",
       "                                                 LinearSVC(random_state=42))]))],\n",
       "                   final_estimator=LogisticRegression())"
      ]
     },
     "execution_count": 87,
     "metadata": {},
     "output_type": "execute_result"
    }
   ],
   "source": [
    "# Load the saved model\n",
    "\n",
    "model = pickle.load(open('stacking_Cocoa.pkl', 'rb'))\n",
    "model"
   ]
  },
  {
   "cell_type": "code",
   "execution_count": 88,
   "id": "30c15f6a",
   "metadata": {},
   "outputs": [],
   "source": [
    "pred = model.predict(x_test)"
   ]
  },
  {
   "cell_type": "code",
   "execution_count": 89,
   "id": "da1e837c",
   "metadata": {},
   "outputs": [
    {
     "data": {
      "text/plain": [
       "array([1, 1, 1, 1, 1, 1, 1, 1, 1, 1, 1, 1, 1, 1, 1, 1, 1, 1, 1, 1, 1, 1,\n",
       "       1, 1, 1, 1, 1, 1, 1, 1, 1, 1, 1, 1, 1, 1, 1, 1, 1, 1, 1, 1, 1, 1,\n",
       "       1, 1, 1, 1, 1, 1, 1, 1, 1, 1, 1, 1, 1, 1, 1, 1, 1, 1, 1, 1, 1, 1,\n",
       "       1, 1, 1, 1, 1, 1, 1, 1, 1, 1, 1, 1, 1, 1, 1, 1, 1, 1, 1, 1, 1, 1,\n",
       "       1, 1, 1, 1, 1, 1, 1, 1, 1, 1, 1, 1, 1, 1, 1, 1, 1, 1, 1, 1, 1, 1,\n",
       "       1, 1, 1, 1, 1, 1, 1, 1, 1, 1, 1, 1, 1, 1, 1, 1, 1, 1, 1, 1, 1, 1,\n",
       "       1, 1, 1, 1, 1, 1, 1, 1, 1, 1, 1, 1, 1, 1, 1, 1, 1, 1, 1, 1, 1, 1,\n",
       "       1, 1, 1, 1, 1, 1, 1, 1, 1, 1, 1, 1, 1, 1, 1, 1, 1, 1, 1, 1, 1, 1,\n",
       "       1, 1, 1, 1, 1, 1, 1, 1, 1, 1, 1, 1, 1, 1, 1, 1, 1, 1, 1, 1, 1, 1,\n",
       "       1, 1, 1, 1, 1, 1, 1, 1, 1, 1, 1, 1, 1, 1, 1, 1, 1, 1, 1, 1, 1, 1,\n",
       "       1, 1, 1, 1, 1, 1, 1, 1, 1, 1, 1, 1, 1, 1, 1, 1, 1, 1, 1, 1, 1, 1,\n",
       "       1, 1, 1, 1, 1, 1, 1, 1, 1, 1, 1, 1, 1, 1, 1, 1, 1, 1, 1, 1, 1, 1,\n",
       "       1, 1, 1, 1, 1, 1, 1, 1, 1, 1, 1, 1, 1, 1, 1, 1, 1, 1, 1, 1, 1, 1,\n",
       "       1, 1, 1, 1, 1, 1, 1, 1, 1, 1, 1, 1, 1, 1, 1, 1, 1, 1, 1, 1, 1, 1,\n",
       "       1, 1, 1, 1, 1, 1, 1, 1, 1, 1, 1, 1, 1, 1, 1, 1, 1, 1, 1, 1, 1, 1,\n",
       "       1, 1, 1, 1, 1, 1, 1, 1, 1, 1, 1, 1, 1, 1, 1, 1, 1, 1, 1, 1, 1, 1,\n",
       "       1, 1, 1, 1, 1, 1, 1])"
      ]
     },
     "execution_count": 89,
     "metadata": {},
     "output_type": "execute_result"
    }
   ],
   "source": [
    "pred"
   ]
  },
  {
   "cell_type": "code",
   "execution_count": 90,
   "id": "66474f10",
   "metadata": {},
   "outputs": [
    {
     "data": {
      "text/plain": [
       "1368    1\n",
       "1705    1\n",
       "927     1\n",
       "713     1\n",
       "262     1\n",
       "       ..\n",
       "1296    1\n",
       "506     1\n",
       "557     1\n",
       "1728    1\n",
       "638     1\n",
       "Name: Rating, Length: 359, dtype: int32"
      ]
     },
     "execution_count": 90,
     "metadata": {},
     "output_type": "execute_result"
    }
   ],
   "source": [
    "y_test"
   ]
  },
  {
   "cell_type": "markdown",
   "id": "775d9425",
   "metadata": {},
   "source": [
    "## Result : This model score is more than 99%, By Performing Boosting, Bagging, Voting, Staking with Grid Search Cv, identifying the best score and best parameter, concluding by saying this model is right fit"
   ]
  },
  {
   "cell_type": "code",
   "execution_count": null,
   "id": "ec14858a",
   "metadata": {},
   "outputs": [],
   "source": []
  }
 ],
 "metadata": {
  "kernelspec": {
   "display_name": "Python 3 (ipykernel)",
   "language": "python",
   "name": "python3"
  },
  "language_info": {
   "codemirror_mode": {
    "name": "ipython",
    "version": 3
   },
   "file_extension": ".py",
   "mimetype": "text/x-python",
   "name": "python",
   "nbconvert_exporter": "python",
   "pygments_lexer": "ipython3",
   "version": "3.9.13"
  }
 },
 "nbformat": 4,
 "nbformat_minor": 5
}
