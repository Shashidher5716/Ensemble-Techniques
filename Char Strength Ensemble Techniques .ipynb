{
 "cells": [
  {
   "cell_type": "code",
   "execution_count": 2,
   "id": "1d51572e",
   "metadata": {},
   "outputs": [],
   "source": [
    "# Import the Libraries\n",
    " \n",
    "import pandas as pd\n",
    "import numpy as np\n",
    "import matplotlib.pyplot as plt\n",
    "import seaborn as sns\n"
   ]
  },
  {
   "cell_type": "code",
   "execution_count": 4,
   "id": "8c8f9ca4",
   "metadata": {},
   "outputs": [],
   "source": [
    "# Loading the dataset\n",
    "\n",
    "data = pd.read_excel(r\"C:\\Users\\Shashi\\Model Building\\Ensemble Models\\Ensemble_Password_Strength.xlsx\")"
   ]
  },
  {
   "cell_type": "code",
   "execution_count": 5,
   "id": "8dd59c40",
   "metadata": {},
   "outputs": [
    {
     "data": {
      "text/html": [
       "<div>\n",
       "<style scoped>\n",
       "    .dataframe tbody tr th:only-of-type {\n",
       "        vertical-align: middle;\n",
       "    }\n",
       "\n",
       "    .dataframe tbody tr th {\n",
       "        vertical-align: top;\n",
       "    }\n",
       "\n",
       "    .dataframe thead th {\n",
       "        text-align: right;\n",
       "    }\n",
       "</style>\n",
       "<table border=\"1\" class=\"dataframe\">\n",
       "  <thead>\n",
       "    <tr style=\"text-align: right;\">\n",
       "      <th></th>\n",
       "      <th>characters</th>\n",
       "      <th>characters_strength</th>\n",
       "    </tr>\n",
       "  </thead>\n",
       "  <tbody>\n",
       "    <tr>\n",
       "      <th>0</th>\n",
       "      <td>kzde5577</td>\n",
       "      <td>1</td>\n",
       "    </tr>\n",
       "    <tr>\n",
       "      <th>1</th>\n",
       "      <td>kino3434</td>\n",
       "      <td>1</td>\n",
       "    </tr>\n",
       "    <tr>\n",
       "      <th>2</th>\n",
       "      <td>visi7k1yr</td>\n",
       "      <td>1</td>\n",
       "    </tr>\n",
       "    <tr>\n",
       "      <th>3</th>\n",
       "      <td>megzy123</td>\n",
       "      <td>1</td>\n",
       "    </tr>\n",
       "    <tr>\n",
       "      <th>4</th>\n",
       "      <td>lamborghin1</td>\n",
       "      <td>1</td>\n",
       "    </tr>\n",
       "  </tbody>\n",
       "</table>\n",
       "</div>"
      ],
      "text/plain": [
       "    characters  characters_strength\n",
       "0     kzde5577                    1\n",
       "1     kino3434                    1\n",
       "2    visi7k1yr                    1\n",
       "3     megzy123                    1\n",
       "4  lamborghin1                    1"
      ]
     },
     "execution_count": 5,
     "metadata": {},
     "output_type": "execute_result"
    }
   ],
   "source": [
    "# Checking the Head of data\n",
    "\n",
    "data.head()"
   ]
  },
  {
   "cell_type": "code",
   "execution_count": 6,
   "id": "f711632a",
   "metadata": {},
   "outputs": [],
   "source": [
    "# Importing the Libraries\n",
    "\n",
    "import warnings\n",
    "warnings.filterwarnings('ignore')"
   ]
  },
  {
   "cell_type": "code",
   "execution_count": 7,
   "id": "ea0a5813",
   "metadata": {},
   "outputs": [
    {
     "data": {
      "text/plain": [
       "kzde5577         1\n",
       "anit1213         1\n",
       "eqiyabm41        1\n",
       "saifur34         1\n",
       "x1wrw29bw1ojh    1\n",
       "                ..\n",
       "94311163nobp     1\n",
       "hamqrc6          1\n",
       "luthien123       1\n",
       "alodise603       1\n",
       "akosi091692      1\n",
       "Name: characters, Length: 1999, dtype: int64"
      ]
     },
     "execution_count": 7,
     "metadata": {},
     "output_type": "execute_result"
    }
   ],
   "source": [
    "# Checking the Value Count\n",
    "\n",
    "data['characters'].value_counts()"
   ]
  },
  {
   "cell_type": "code",
   "execution_count": 8,
   "id": "ee89ce1d",
   "metadata": {},
   "outputs": [
    {
     "data": {
      "text/plain": [
       "0"
      ]
     },
     "execution_count": 8,
     "metadata": {},
     "output_type": "execute_result"
    }
   ],
   "source": [
    "# Checking the duplicates\n",
    "\n",
    "data.duplicated().sum()"
   ]
  },
  {
   "cell_type": "code",
   "execution_count": 9,
   "id": "b8a20412",
   "metadata": {},
   "outputs": [
    {
     "data": {
      "text/plain": [
       "characters             0\n",
       "characters_strength    0\n",
       "dtype: int64"
      ]
     },
     "execution_count": 9,
     "metadata": {},
     "output_type": "execute_result"
    }
   ],
   "source": [
    "# Checking the Missing Values\n",
    "\n",
    "data.isna().sum()"
   ]
  },
  {
   "cell_type": "code",
   "execution_count": 10,
   "id": "064a0590",
   "metadata": {},
   "outputs": [
    {
     "data": {
      "text/html": [
       "<div>\n",
       "<style scoped>\n",
       "    .dataframe tbody tr th:only-of-type {\n",
       "        vertical-align: middle;\n",
       "    }\n",
       "\n",
       "    .dataframe tbody tr th {\n",
       "        vertical-align: top;\n",
       "    }\n",
       "\n",
       "    .dataframe thead th {\n",
       "        text-align: right;\n",
       "    }\n",
       "</style>\n",
       "<table border=\"1\" class=\"dataframe\">\n",
       "  <thead>\n",
       "    <tr style=\"text-align: right;\">\n",
       "      <th></th>\n",
       "      <th>characters</th>\n",
       "      <th>characters_strength</th>\n",
       "    </tr>\n",
       "  </thead>\n",
       "  <tbody>\n",
       "    <tr>\n",
       "      <th>0</th>\n",
       "      <td>kzde5577</td>\n",
       "      <td>1</td>\n",
       "    </tr>\n",
       "    <tr>\n",
       "      <th>1</th>\n",
       "      <td>kino3434</td>\n",
       "      <td>1</td>\n",
       "    </tr>\n",
       "    <tr>\n",
       "      <th>2</th>\n",
       "      <td>visi7k1yr</td>\n",
       "      <td>1</td>\n",
       "    </tr>\n",
       "    <tr>\n",
       "      <th>3</th>\n",
       "      <td>megzy123</td>\n",
       "      <td>1</td>\n",
       "    </tr>\n",
       "    <tr>\n",
       "      <th>4</th>\n",
       "      <td>lamborghin1</td>\n",
       "      <td>1</td>\n",
       "    </tr>\n",
       "    <tr>\n",
       "      <th>...</th>\n",
       "      <td>...</td>\n",
       "      <td>...</td>\n",
       "    </tr>\n",
       "    <tr>\n",
       "      <th>1994</th>\n",
       "      <td>patososo2012</td>\n",
       "      <td>1</td>\n",
       "    </tr>\n",
       "    <tr>\n",
       "      <th>1995</th>\n",
       "      <td>sf2004824</td>\n",
       "      <td>1</td>\n",
       "    </tr>\n",
       "    <tr>\n",
       "      <th>1996</th>\n",
       "      <td>marco90</td>\n",
       "      <td>0</td>\n",
       "    </tr>\n",
       "    <tr>\n",
       "      <th>1997</th>\n",
       "      <td>jebekk1</td>\n",
       "      <td>0</td>\n",
       "    </tr>\n",
       "    <tr>\n",
       "      <th>1998</th>\n",
       "      <td>akosi091692</td>\n",
       "      <td>1</td>\n",
       "    </tr>\n",
       "  </tbody>\n",
       "</table>\n",
       "<p>1999 rows × 2 columns</p>\n",
       "</div>"
      ],
      "text/plain": [
       "        characters  characters_strength\n",
       "0         kzde5577                    1\n",
       "1         kino3434                    1\n",
       "2        visi7k1yr                    1\n",
       "3         megzy123                    1\n",
       "4      lamborghin1                    1\n",
       "...            ...                  ...\n",
       "1994  patososo2012                    1\n",
       "1995     sf2004824                    1\n",
       "1996       marco90                    0\n",
       "1997       jebekk1                    0\n",
       "1998   akosi091692                    1\n",
       "\n",
       "[1999 rows x 2 columns]"
      ]
     },
     "execution_count": 10,
     "metadata": {},
     "output_type": "execute_result"
    }
   ],
   "source": [
    "data"
   ]
  },
  {
   "cell_type": "code",
   "execution_count": 11,
   "id": "25eaf44e",
   "metadata": {},
   "outputs": [
    {
     "data": {
      "text/plain": [
       "characters             object\n",
       "characters_strength     int64\n",
       "dtype: object"
      ]
     },
     "execution_count": 11,
     "metadata": {},
     "output_type": "execute_result"
    }
   ],
   "source": [
    "# Checking the data types\n",
    "\n",
    "data.dtypes"
   ]
  },
  {
   "cell_type": "code",
   "execution_count": 14,
   "id": "28600c0e",
   "metadata": {},
   "outputs": [],
   "source": [
    "data = data.astype('string')"
   ]
  },
  {
   "cell_type": "code",
   "execution_count": 15,
   "id": "efce5b0d",
   "metadata": {},
   "outputs": [],
   "source": [
    "# Encoder - LabelEncoder\n",
    "\n",
    "from sklearn.preprocessing import LabelEncoder"
   ]
  },
  {
   "cell_type": "code",
   "execution_count": 16,
   "id": "245e3e8f",
   "metadata": {},
   "outputs": [],
   "source": [
    "enc = LabelEncoder()\n",
    "\n",
    "data['characters'] = enc.fit_transform(data['characters'])"
   ]
  },
  {
   "cell_type": "code",
   "execution_count": 17,
   "id": "8437a344",
   "metadata": {},
   "outputs": [],
   "source": [
    "data = data.astype('float')"
   ]
  },
  {
   "cell_type": "code",
   "execution_count": 18,
   "id": "cd6b01fe",
   "metadata": {},
   "outputs": [],
   "source": [
    "# Standardization - Scaling Min = 0, Max = 1\n",
    "\n",
    "def norm_fun(i):\n",
    "    x = (i - i.min())/(i.max() - i.min())\n",
    "    \n",
    "    return x"
   ]
  },
  {
   "cell_type": "code",
   "execution_count": 19,
   "id": "e8c1db8a",
   "metadata": {},
   "outputs": [
    {
     "data": {
      "text/html": [
       "<div>\n",
       "<style scoped>\n",
       "    .dataframe tbody tr th:only-of-type {\n",
       "        vertical-align: middle;\n",
       "    }\n",
       "\n",
       "    .dataframe tbody tr th {\n",
       "        vertical-align: top;\n",
       "    }\n",
       "\n",
       "    .dataframe thead th {\n",
       "        text-align: right;\n",
       "    }\n",
       "</style>\n",
       "<table border=\"1\" class=\"dataframe\">\n",
       "  <thead>\n",
       "    <tr style=\"text-align: right;\">\n",
       "      <th></th>\n",
       "      <th>characters</th>\n",
       "      <th>characters_strength</th>\n",
       "    </tr>\n",
       "  </thead>\n",
       "  <tbody>\n",
       "    <tr>\n",
       "      <th>count</th>\n",
       "      <td>1999.000000</td>\n",
       "      <td>1999.000000</td>\n",
       "    </tr>\n",
       "    <tr>\n",
       "      <th>mean</th>\n",
       "      <td>0.500000</td>\n",
       "      <td>0.857929</td>\n",
       "    </tr>\n",
       "    <tr>\n",
       "      <th>std</th>\n",
       "      <td>0.288892</td>\n",
       "      <td>0.349210</td>\n",
       "    </tr>\n",
       "    <tr>\n",
       "      <th>min</th>\n",
       "      <td>0.000000</td>\n",
       "      <td>0.000000</td>\n",
       "    </tr>\n",
       "    <tr>\n",
       "      <th>25%</th>\n",
       "      <td>0.250000</td>\n",
       "      <td>1.000000</td>\n",
       "    </tr>\n",
       "    <tr>\n",
       "      <th>50%</th>\n",
       "      <td>0.500000</td>\n",
       "      <td>1.000000</td>\n",
       "    </tr>\n",
       "    <tr>\n",
       "      <th>75%</th>\n",
       "      <td>0.750000</td>\n",
       "      <td>1.000000</td>\n",
       "    </tr>\n",
       "    <tr>\n",
       "      <th>max</th>\n",
       "      <td>1.000000</td>\n",
       "      <td>1.000000</td>\n",
       "    </tr>\n",
       "  </tbody>\n",
       "</table>\n",
       "</div>"
      ],
      "text/plain": [
       "        characters  characters_strength\n",
       "count  1999.000000          1999.000000\n",
       "mean      0.500000             0.857929\n",
       "std       0.288892             0.349210\n",
       "min       0.000000             0.000000\n",
       "25%       0.250000             1.000000\n",
       "50%       0.500000             1.000000\n",
       "75%       0.750000             1.000000\n",
       "max       1.000000             1.000000"
      ]
     },
     "execution_count": 19,
     "metadata": {},
     "output_type": "execute_result"
    }
   ],
   "source": [
    "data_norm = norm_fun(data)\n",
    "data = pd.DataFrame(data_norm)\n",
    "data.describe()"
   ]
  },
  {
   "cell_type": "code",
   "execution_count": 20,
   "id": "7c41522a",
   "metadata": {},
   "outputs": [
    {
     "data": {
      "text/html": [
       "<div>\n",
       "<style scoped>\n",
       "    .dataframe tbody tr th:only-of-type {\n",
       "        vertical-align: middle;\n",
       "    }\n",
       "\n",
       "    .dataframe tbody tr th {\n",
       "        vertical-align: top;\n",
       "    }\n",
       "\n",
       "    .dataframe thead th {\n",
       "        text-align: right;\n",
       "    }\n",
       "</style>\n",
       "<table border=\"1\" class=\"dataframe\">\n",
       "  <thead>\n",
       "    <tr style=\"text-align: right;\">\n",
       "      <th></th>\n",
       "      <th>characters</th>\n",
       "      <th>characters_strength</th>\n",
       "    </tr>\n",
       "  </thead>\n",
       "  <tbody>\n",
       "    <tr>\n",
       "      <th>characters</th>\n",
       "      <td>1.000000</td>\n",
       "      <td>-0.087937</td>\n",
       "    </tr>\n",
       "    <tr>\n",
       "      <th>characters_strength</th>\n",
       "      <td>-0.087937</td>\n",
       "      <td>1.000000</td>\n",
       "    </tr>\n",
       "  </tbody>\n",
       "</table>\n",
       "</div>"
      ],
      "text/plain": [
       "                     characters  characters_strength\n",
       "characters             1.000000            -0.087937\n",
       "characters_strength   -0.087937             1.000000"
      ]
     },
     "execution_count": 20,
     "metadata": {},
     "output_type": "execute_result"
    }
   ],
   "source": [
    "# Checking the data Correlation\n",
    "\n",
    "data.corr()"
   ]
  },
  {
   "cell_type": "code",
   "execution_count": 21,
   "id": "95829ee9",
   "metadata": {},
   "outputs": [],
   "source": [
    "# Spliting the data\n",
    "\n",
    "X = data.drop('characters_strength', axis = 1)\n",
    "Y = data.characters_strength"
   ]
  },
  {
   "cell_type": "code",
   "execution_count": 22,
   "id": "931a0324",
   "metadata": {},
   "outputs": [],
   "source": [
    "# Importing the Train Test Split\n",
    "\n",
    "from sklearn.model_selection import train_test_split\n",
    "\n",
    "x_train, x_test, y_train, y_test = train_test_split(X, Y, test_size = 0.2, random_state = 0)"
   ]
  },
  {
   "cell_type": "code",
   "execution_count": 23,
   "id": "99b58f12",
   "metadata": {},
   "outputs": [
    {
     "data": {
      "text/plain": [
       "0.959479739869935"
      ]
     },
     "execution_count": 23,
     "metadata": {},
     "output_type": "execute_result"
    }
   ],
   "source": [
    "# Creating the Model\n",
    "\n",
    "from sklearn import tree\n",
    "\n",
    "model = tree.DecisionTreeClassifier()\n",
    "model.fit(x_train, y_train)\n",
    "\n",
    "# Checking the score of\n",
    "model.score(X, Y)"
   ]
  },
  {
   "cell_type": "code",
   "execution_count": 24,
   "id": "f5b130fb",
   "metadata": {},
   "outputs": [
    {
     "data": {
      "text/plain": [
       "0.7975"
      ]
     },
     "execution_count": 24,
     "metadata": {},
     "output_type": "execute_result"
    }
   ],
   "source": [
    "# Prediction on Test Data\n",
    "y_pred = model.predict(x_test)\n",
    "pd.crosstab(y_pred, y_test)\n",
    "\n",
    "np.mean(y_pred == y_test) # Test Data Accuracy "
   ]
  },
  {
   "cell_type": "code",
   "execution_count": 25,
   "id": "bcbdc648",
   "metadata": {},
   "outputs": [
    {
     "data": {
      "text/plain": [
       "1.0"
      ]
     },
     "execution_count": 25,
     "metadata": {},
     "output_type": "execute_result"
    }
   ],
   "source": [
    "# Bagging\n",
    "\n",
    "from sklearn import tree\n",
    "clftree = tree.DecisionTreeClassifier()\n",
    "from sklearn.ensemble import BaggingClassifier\n",
    "\n",
    "\n",
    "bag_clf = BaggingClassifier(base_estimator = clftree, n_estimators = 1000,\n",
    "                            bootstrap = True, n_jobs = 1, random_state = 42)\n",
    "\n",
    "bag_clf.fit(x_train, y_train)\n",
    "\n",
    "from sklearn.metrics import accuracy_score, confusion_matrix\n",
    "\n",
    "# Evaluation on Testing Data\n",
    "confusion_matrix(y_test, bag_clf.predict(x_test))\n",
    "accuracy_score(y_test, bag_clf.predict(x_test))\n",
    "\n",
    "# Evaluation on Training Data\n",
    "confusion_matrix(y_train, bag_clf.predict(x_train))\n",
    "accuracy_score(y_train, bag_clf.predict(x_train))"
   ]
  },
  {
   "cell_type": "code",
   "execution_count": 26,
   "id": "7d8acd97",
   "metadata": {},
   "outputs": [
    {
     "data": {
      "text/plain": [
       "0.8530331457160726"
      ]
     },
     "execution_count": 26,
     "metadata": {},
     "output_type": "execute_result"
    }
   ],
   "source": [
    "# Ada Boosting\n",
    "\n",
    "from sklearn.ensemble import AdaBoostClassifier\n",
    "\n",
    "ada_clf = AdaBoostClassifier(learning_rate = 0.02, n_estimators = 5000)\n",
    "\n",
    "ada_clf.fit(x_train, y_train)\n",
    "\n",
    "from sklearn.metrics import accuracy_score, confusion_matrix\n",
    "\n",
    "# Evaluation on Testing Data\n",
    "confusion_matrix(y_test, ada_clf.predict(x_test))\n",
    "accuracy_score(y_test, ada_clf.predict(x_test))\n",
    "\n",
    "# Evaluation on Training Data\n",
    "accuracy_score(y_train, ada_clf.predict(x_train))\n"
   ]
  },
  {
   "cell_type": "code",
   "execution_count": 27,
   "id": "a88c2ba1",
   "metadata": {},
   "outputs": [
    {
     "data": {
      "text/plain": [
       "0.8686679174484052"
      ]
     },
     "execution_count": 27,
     "metadata": {},
     "output_type": "execute_result"
    }
   ],
   "source": [
    "# Ada Boosting - model 2\n",
    "\n",
    "from sklearn.ensemble import AdaBoostClassifier\n",
    "\n",
    "ada_clf = AdaBoostClassifier(learning_rate = 0.5, n_estimators=5000, random_state=0)\n",
    "\n",
    "ada_clf.fit(x_train, y_train)\n",
    "\n",
    "from sklearn.metrics import accuracy_score, confusion_matrix\n",
    "\n",
    "# Evaluation on Testing Data\n",
    "confusion_matrix(y_test, ada_clf.predict(x_test))\n",
    "accuracy_score(y_test, ada_clf.predict(x_test))\n",
    "\n",
    "# Evaluation on Training Data\n",
    "accuracy_score(y_train, ada_clf.predict(x_train))"
   ]
  },
  {
   "cell_type": "code",
   "execution_count": 28,
   "id": "35a94a50",
   "metadata": {},
   "outputs": [
    {
     "data": {
      "text/plain": [
       "0.8725"
      ]
     },
     "execution_count": 28,
     "metadata": {},
     "output_type": "execute_result"
    }
   ],
   "source": [
    "# Gradient Boosting\n",
    "\n",
    "from sklearn.ensemble import GradientBoostingClassifier\n",
    "\n",
    "boost_clf = GradientBoostingClassifier()\n",
    "\n",
    "boost_clf.fit(x_train, y_train)\n",
    "\n",
    "from sklearn.metrics import accuracy_score, confusion_matrix\n",
    "\n",
    "confusion_matrix(y_test, boost_clf.predict(x_test))\n",
    "accuracy_score(y_test, boost_clf.predict(x_test))"
   ]
  },
  {
   "cell_type": "code",
   "execution_count": 31,
   "id": "51010766",
   "metadata": {},
   "outputs": [
    {
     "name": "stdout",
     "output_type": "stream",
     "text": [
      "[11:33:21] WARNING: C:/buildkite-agent/builds/buildkite-windows-cpu-autoscaling-group-i-030221e36e1a46bfb-1/xgboost/xgboost-ci-windows/src/learner.cc:767: \n",
      "Parameters: { \"max_depths\" } are not used.\n",
      "\n"
     ]
    },
    {
     "data": {
      "text/plain": [
       "XGBClassifier(base_score=0.5, booster='gbtree', callbacks=None,\n",
       "              colsample_bylevel=1, colsample_bynode=1, colsample_bytree=1,\n",
       "              early_stopping_rounds=None, enable_categorical=False,\n",
       "              eval_metric=None, feature_types=None, gamma=0, gpu_id=-1,\n",
       "              grow_policy='depthwise', importance_type=None,\n",
       "              interaction_constraints='', learning_rate=0.3, max_bin=256,\n",
       "              max_cat_threshold=64, max_cat_to_onehot=4, max_delta_step=0,\n",
       "              max_depth=6, max_depths=5, max_leaves=0, min_child_weight=1,\n",
       "              missing=nan, monotone_constraints='()', n_estimators=10000,\n",
       "              n_jobs=-1, num_parallel_tree=1, predictor='auto', ...)"
      ]
     },
     "execution_count": 31,
     "metadata": {},
     "output_type": "execute_result"
    }
   ],
   "source": [
    "# xgboost - want output to be numeric\n",
    "\n",
    "import xgboost as xgb\n",
    "\n",
    "xgb_clf = xgb.XGBClassifier(max_depths = 5, n_estimators = 10000, learning_rate = 0.3, n_jobs = -1)\n",
    "\n",
    "# n_jobs – Number of parallel threads used to run xgboost.\n",
    "# learning_rate (float) – Boosting learning rate (xgb’s “eta”)\n",
    "\n",
    "\n",
    "xgb_clf.fit(x_train, y_train)"
   ]
  },
  {
   "cell_type": "code",
   "execution_count": 32,
   "id": "8409acbb",
   "metadata": {},
   "outputs": [
    {
     "data": {
      "text/plain": [
       "0.77"
      ]
     },
     "execution_count": 32,
     "metadata": {},
     "output_type": "execute_result"
    }
   ],
   "source": [
    "from sklearn.metrics import accuracy_score, confusion_matrix\n",
    "\n",
    "# Evaluation on Testing Data\n",
    "confusion_matrix(y_test, xgb_clf.predict(x_test))\n",
    "accuracy_score(y_test, xgb_clf.predict(x_test))\n"
   ]
  },
  {
   "cell_type": "code",
   "execution_count": 33,
   "id": "26f2940c",
   "metadata": {},
   "outputs": [
    {
     "data": {
      "text/plain": [
       "0.8775"
      ]
     },
     "execution_count": 33,
     "metadata": {},
     "output_type": "execute_result"
    }
   ],
   "source": [
    "# GridsearchCV\n",
    "xgb_clf = xgb.XGBClassifier(n_estimators = 500, learning_rate = 0.1, random_state = 42)\n",
    "\n",
    "param_test1 = {'max_depth': range(3,10,2), 'gamma': [0.1, 0.2, 0.3],\n",
    "               'subsample': [0.8, 0.9], 'colsample_bytree': [0.8, 0,9],\n",
    "               'reg_alpha': [1e-2, 0.1, 1]}\n",
    "\n",
    "# Grid Search\n",
    "from sklearn.model_selection import GridSearchCV\n",
    "grid_search = GridSearchCV(xgb_clf, param_test1, n_jobs = -1, cv = 5, scoring = 'accuracy')\n",
    "\n",
    "grid_search.fit(x_train, y_train)\n",
    "\n",
    "grid_search.best_params_\n",
    "cv_xg_clf = grid_search.best_estimator_\n",
    "\n",
    "# Evaluation on Testing Data with model with hyperparameter\n",
    "accuracy_score(y_test, cv_xg_clf.predict(x_test))\n",
    "\n"
   ]
  },
  {
   "cell_type": "code",
   "execution_count": 34,
   "id": "897a4b10",
   "metadata": {},
   "outputs": [
    {
     "data": {
      "text/plain": [
       "KNeighborsClassifier(n_neighbors=19)"
      ]
     },
     "execution_count": 34,
     "metadata": {},
     "output_type": "execute_result"
    }
   ],
   "source": [
    "### k-Nearest Neighbors (k-NN) with GridSearchCV\n",
    "from sklearn.neighbors import KNeighborsClassifier\n",
    "\n",
    "knn = KNeighborsClassifier()\n",
    "\n",
    "params_knn = {'n_neighbors': np.arange(1, 25)}\n",
    "\n",
    "knn_gs = GridSearchCV(knn, params_knn, cv = 5)\n",
    "\n",
    "knn_gs.fit(x_train, y_train)\n",
    "knn_best = knn_gs.best_estimator_\n",
    "knn_best"
   ]
  },
  {
   "cell_type": "code",
   "execution_count": 35,
   "id": "77b97b3b",
   "metadata": {},
   "outputs": [],
   "source": [
    "### Random Forest Classifier with GridSearchCV\n",
    "\n",
    "from sklearn import datasets, linear_model, svm, neighbors, naive_bayes, ensemble\n",
    "\n",
    "rf = ensemble.RandomForestClassifier(random_state = 0)\n",
    "\n",
    "params_rf = {'n_estimators': [50, 100, 200]}\n",
    "\n",
    "rf_gs = GridSearchCV(rf, params_rf, cv = 5)\n",
    "\n",
    "rf_gs.fit(x_train, y_train)\n",
    "rf_best = rf_gs.best_estimator_"
   ]
  },
  {
   "cell_type": "code",
   "execution_count": 36,
   "id": "ad02987f",
   "metadata": {},
   "outputs": [],
   "source": [
    "### Logistic Regression with GridSearchCV\n",
    "log_reg = linear_model.LogisticRegression(random_state = 123, solver = \"liblinear\", \n",
    "                                          penalty = \"l2\", max_iter = 5000)\n",
    "C = np.logspace(1, 4, 10)\n",
    "params_lr = dict(C = C)\n",
    "\n",
    "lr_gs = GridSearchCV(log_reg, params_lr, cv = 5, verbose = 0)\n",
    "\n",
    "lr_gs.fit(x_train, y_train)\n",
    "lr_best = lr_gs.best_estimator_"
   ]
  },
  {
   "cell_type": "code",
   "execution_count": 37,
   "id": "26a530f7",
   "metadata": {},
   "outputs": [],
   "source": [
    "# Combine all three Voting Ensembles\n",
    "\n",
    "from sklearn.ensemble import VotingClassifier\n",
    "\n",
    "estimators = [('knn', knn_best), ('rf', rf_best), ('log_reg', lr_best)]\n",
    "\n",
    "# Instantiate the voting classifier\n",
    "ensemble_H = VotingClassifier(estimators, voting = \"hard\")\n",
    "\n",
    "# Fit classifier with the training data\n",
    "hard_voting = ensemble_H.fit(x_train, y_train)"
   ]
  },
  {
   "cell_type": "code",
   "execution_count": 38,
   "id": "dbc4563f",
   "metadata": {},
   "outputs": [
    {
     "data": {
      "text/plain": [
       "VotingClassifier(estimators=[('knn', KNeighborsClassifier(n_neighbors=19)),\n",
       "                             ('rf',\n",
       "                              RandomForestClassifier(n_estimators=50,\n",
       "                                                     random_state=0)),\n",
       "                             ('log_reg',\n",
       "                              LogisticRegression(C=10.0, max_iter=5000,\n",
       "                                                 random_state=123,\n",
       "                                                 solver='liblinear'))])"
      ]
     },
     "execution_count": 38,
     "metadata": {},
     "output_type": "execute_result"
    }
   ],
   "source": [
    "# Save the voting classifier\n",
    "\n",
    "import pickle\n",
    "\n",
    "pickle.dump(hard_voting, open('hard_voting.pkl', 'wb'))\n",
    "\n",
    "# Loading a saved model\n",
    "model = pickle.load(open('hard_voting.pkl', 'rb'))\n",
    "model"
   ]
  },
  {
   "cell_type": "code",
   "execution_count": 39,
   "id": "c3f4613e",
   "metadata": {},
   "outputs": [
    {
     "name": "stdout",
     "output_type": "stream",
     "text": [
      "knn_gs.score:  0.8825\n",
      "rf_gs.score:  0.8\n",
      "log_reg.score:  0.8825\n"
     ]
    }
   ],
   "source": [
    "print(\"knn_gs.score: \", knn_best.score(x_test, y_test))\n",
    "# Output: knn_gs.score:\n",
    "\n",
    "print(\"rf_gs.score: \", rf_best.score(x_test, y_test))\n",
    "# Output: rf_gs.score:\n",
    "\n",
    "print(\"log_reg.score: \", lr_best.score(x_test, y_test))\n",
    "# Output: log_reg.score:"
   ]
  },
  {
   "cell_type": "code",
   "execution_count": 40,
   "id": "934a75ec",
   "metadata": {},
   "outputs": [
    {
     "name": "stdout",
     "output_type": "stream",
     "text": [
      "ensemble.score:  0.8825\n"
     ]
    }
   ],
   "source": [
    "print(\"ensemble.score: \", ensemble_H.score(x_test, y_test))\n",
    "# Output: ensemble.score: # Majority"
   ]
  },
  {
   "cell_type": "code",
   "execution_count": 41,
   "id": "cc40a39f",
   "metadata": {},
   "outputs": [],
   "source": [
    "# Soft Voting\n",
    "\n",
    "# Combine all 3 models using VotingClassifier with voting = \"soft\" parameter\n",
    "estimators = [('knn', knn_best), ('rf', rf_best), ('log_reg', lr_best)]\n",
    "\n",
    "ensemble_S = VotingClassifier(estimators, voting = \"soft\")\n",
    "\n",
    "soft_voting = ensemble_S.fit(x_train, y_train)"
   ]
  },
  {
   "cell_type": "code",
   "execution_count": 42,
   "id": "2a41842c",
   "metadata": {},
   "outputs": [
    {
     "data": {
      "text/plain": [
       "VotingClassifier(estimators=[('knn', KNeighborsClassifier(n_neighbors=19)),\n",
       "                             ('rf',\n",
       "                              RandomForestClassifier(n_estimators=50,\n",
       "                                                     random_state=0)),\n",
       "                             ('log_reg',\n",
       "                              LogisticRegression(C=10.0, max_iter=5000,\n",
       "                                                 random_state=123,\n",
       "                                                 solver='liblinear'))],\n",
       "                 voting='soft')"
      ]
     },
     "execution_count": 42,
     "metadata": {},
     "output_type": "execute_result"
    }
   ],
   "source": [
    "# Soft Voting\n",
    "\n",
    "# Save model\n",
    "pickle.dump(soft_voting, open('soft_voting.pkl', 'wb'))\n",
    "\n",
    "\n",
    "# Load the saved model\n",
    "model = pickle.load(open('soft_voting.pkl', 'rb'))\n",
    "model"
   ]
  },
  {
   "cell_type": "code",
   "execution_count": 43,
   "id": "a3cf8127",
   "metadata": {},
   "outputs": [
    {
     "name": "stdout",
     "output_type": "stream",
     "text": [
      "knn_gs.score:  0.8825\n",
      "rf_gs.score:  0.8\n",
      "log_reg.score:  0.8825\n"
     ]
    }
   ],
   "source": [
    "print(\"knn_gs.score: \", knn_gs.score(x_test, y_test))\n",
    "# Output: knn_gs.score:\n",
    "\n",
    "print(\"rf_gs.score: \", rf_gs.score(x_test, y_test))\n",
    "# Output: rf_gs.score:\n",
    "\n",
    "print(\"log_reg.score: \", lr_gs.score(x_test, y_test))\n",
    "# Output: log_reg.score:"
   ]
  },
  {
   "cell_type": "code",
   "execution_count": 44,
   "id": "3eac7af8",
   "metadata": {},
   "outputs": [
    {
     "name": "stdout",
     "output_type": "stream",
     "text": [
      "ensemble.score:  0.8825\n"
     ]
    }
   ],
   "source": [
    "print(\"ensemble.score: \", ensemble_S.score(x_test, y_test))\n",
    "# Output: ensemble.score: AVG or WT.AVG"
   ]
  },
  {
   "cell_type": "code",
   "execution_count": 45,
   "id": "0b3249d2",
   "metadata": {},
   "outputs": [],
   "source": [
    "# Import Libraries\n",
    "\n",
    "from sklearn.ensemble import RandomForestClassifier\n",
    "from sklearn.svm import LinearSVC\n",
    "from sklearn.linear_model import LogisticRegression\n",
    "from sklearn.preprocessing import StandardScaler\n",
    "from sklearn.pipeline import make_pipeline\n",
    "from sklearn.ensemble import StackingClassifier\n",
    "from sklearn.model_selection import train_test_split\n",
    "from sklearn import metrics"
   ]
  },
  {
   "cell_type": "code",
   "execution_count": 46,
   "id": "8a29a30f",
   "metadata": {},
   "outputs": [],
   "source": [
    "# Stacking\n",
    "\n",
    "# Base estimators\n",
    "\n",
    "estimators = [('rf', RandomForestClassifier(n_estimators = 10, random_state = 42)),\n",
    "              ('svr', make_pipeline(StandardScaler(), LinearSVC(random_state = 42)))]"
   ]
  },
  {
   "cell_type": "code",
   "execution_count": 47,
   "id": "11af7a2a",
   "metadata": {},
   "outputs": [],
   "source": [
    "# Meta Model stacked on top of base estimators\n",
    "\n",
    "clf = StackingClassifier(estimators = estimators, final_estimator = LogisticRegression())"
   ]
  },
  {
   "cell_type": "code",
   "execution_count": 48,
   "id": "22727e34",
   "metadata": {},
   "outputs": [],
   "source": [
    "# Fit the model on traing data\n",
    "\n",
    "stacking = clf.fit(x_train, y_train)"
   ]
  },
  {
   "cell_type": "code",
   "execution_count": 49,
   "id": "10b11545",
   "metadata": {},
   "outputs": [
    {
     "data": {
      "text/plain": [
       "0.8825"
      ]
     },
     "execution_count": 49,
     "metadata": {},
     "output_type": "execute_result"
    }
   ],
   "source": [
    "# Accuracy\n",
    "\n",
    "stacking.score(x_test, y_test)"
   ]
  },
  {
   "cell_type": "code",
   "execution_count": 50,
   "id": "439f095e",
   "metadata": {},
   "outputs": [],
   "source": [
    "# Save the Stacking model \n",
    "pickle.dump(stacking, open('stacking_CharStrength.pkl', 'wb'))"
   ]
  },
  {
   "cell_type": "code",
   "execution_count": 51,
   "id": "6c35563c",
   "metadata": {},
   "outputs": [
    {
     "data": {
      "text/plain": [
       "StackingClassifier(estimators=[('rf',\n",
       "                                RandomForestClassifier(n_estimators=10,\n",
       "                                                       random_state=42)),\n",
       "                               ('svr',\n",
       "                                Pipeline(steps=[('standardscaler',\n",
       "                                                 StandardScaler()),\n",
       "                                                ('linearsvc',\n",
       "                                                 LinearSVC(random_state=42))]))],\n",
       "                   final_estimator=LogisticRegression())"
      ]
     },
     "execution_count": 51,
     "metadata": {},
     "output_type": "execute_result"
    }
   ],
   "source": [
    "# Load the saved model\n",
    "\n",
    "model = pickle.load(open('stacking_CharStrength.pkl', 'rb'))\n",
    "model"
   ]
  },
  {
   "cell_type": "code",
   "execution_count": 52,
   "id": "b0897c5f",
   "metadata": {},
   "outputs": [],
   "source": [
    "pred = model.predict(x_test)"
   ]
  },
  {
   "cell_type": "code",
   "execution_count": 53,
   "id": "102c1bf0",
   "metadata": {},
   "outputs": [
    {
     "data": {
      "text/plain": [
       "array([1., 1., 1., 1., 1., 1., 1., 1., 1., 1., 1., 1., 1., 1., 1., 1., 1.,\n",
       "       1., 1., 1., 1., 1., 1., 1., 1., 1., 1., 1., 1., 1., 1., 1., 1., 1.,\n",
       "       1., 1., 1., 1., 1., 1., 1., 1., 1., 1., 1., 1., 1., 1., 1., 1., 1.,\n",
       "       1., 1., 1., 1., 1., 1., 1., 1., 1., 1., 1., 1., 1., 1., 1., 1., 1.,\n",
       "       1., 1., 1., 1., 1., 1., 1., 1., 1., 1., 1., 1., 1., 1., 1., 1., 1.,\n",
       "       1., 1., 1., 1., 1., 1., 1., 1., 1., 1., 1., 1., 1., 1., 1., 1., 1.,\n",
       "       1., 1., 1., 1., 1., 1., 1., 1., 1., 1., 1., 1., 1., 1., 1., 1., 1.,\n",
       "       1., 1., 1., 1., 1., 1., 1., 1., 1., 1., 1., 1., 1., 1., 1., 1., 1.,\n",
       "       1., 1., 1., 1., 1., 1., 1., 1., 1., 1., 1., 1., 1., 1., 1., 1., 1.,\n",
       "       1., 1., 1., 1., 1., 1., 1., 1., 1., 1., 1., 1., 1., 1., 1., 1., 1.,\n",
       "       1., 1., 1., 1., 1., 1., 1., 1., 1., 1., 1., 1., 1., 1., 1., 1., 1.,\n",
       "       1., 1., 1., 1., 1., 1., 1., 1., 1., 1., 1., 1., 1., 1., 1., 1., 1.,\n",
       "       1., 1., 1., 1., 1., 1., 1., 1., 1., 1., 1., 1., 1., 1., 1., 1., 1.,\n",
       "       1., 1., 1., 1., 1., 1., 1., 1., 1., 1., 1., 1., 1., 1., 1., 1., 1.,\n",
       "       1., 1., 1., 1., 1., 1., 1., 1., 1., 1., 1., 1., 1., 1., 1., 1., 1.,\n",
       "       1., 1., 1., 1., 1., 1., 1., 1., 1., 1., 1., 1., 1., 1., 1., 1., 1.,\n",
       "       1., 1., 1., 1., 1., 1., 1., 1., 1., 1., 1., 1., 1., 1., 1., 1., 1.,\n",
       "       1., 1., 1., 1., 1., 1., 1., 1., 1., 1., 1., 1., 1., 1., 1., 1., 1.,\n",
       "       1., 1., 1., 1., 1., 1., 1., 1., 1., 1., 1., 1., 1., 1., 1., 1., 1.,\n",
       "       1., 1., 1., 1., 1., 1., 1., 1., 1., 1., 1., 1., 1., 1., 1., 1., 1.,\n",
       "       1., 1., 1., 1., 1., 1., 1., 1., 1., 1., 1., 1., 1., 1., 1., 1., 1.,\n",
       "       1., 1., 1., 1., 1., 1., 1., 1., 1., 1., 1., 1., 1., 1., 1., 1., 1.,\n",
       "       1., 1., 1., 1., 1., 1., 1., 1., 1., 1., 1., 1., 1., 1., 1., 1., 1.,\n",
       "       1., 1., 1., 1., 1., 1., 1., 1., 1.])"
      ]
     },
     "execution_count": 53,
     "metadata": {},
     "output_type": "execute_result"
    }
   ],
   "source": [
    "pred"
   ]
  },
  {
   "cell_type": "code",
   "execution_count": 54,
   "id": "440428b2",
   "metadata": {},
   "outputs": [
    {
     "data": {
      "text/plain": [
       "405     1.0\n",
       "1189    1.0\n",
       "674     1.0\n",
       "1358    1.0\n",
       "810     1.0\n",
       "       ... \n",
       "1453    1.0\n",
       "360     1.0\n",
       "1809    1.0\n",
       "769     1.0\n",
       "563     1.0\n",
       "Name: characters_strength, Length: 400, dtype: float64"
      ]
     },
     "execution_count": 54,
     "metadata": {},
     "output_type": "execute_result"
    }
   ],
   "source": [
    "y_test"
   ]
  },
  {
   "cell_type": "markdown",
   "id": "d12fbe73",
   "metadata": {},
   "source": [
    "## Result : This model score is more than 87%, By Performing Boosting, Bagging, Voting, Staking with Grid Search Cv, identifying the best score and best parameter, concluding by saying this model is right fit"
   ]
  },
  {
   "cell_type": "code",
   "execution_count": null,
   "id": "20301837",
   "metadata": {},
   "outputs": [],
   "source": []
  }
 ],
 "metadata": {
  "kernelspec": {
   "display_name": "Python 3 (ipykernel)",
   "language": "python",
   "name": "python3"
  },
  "language_info": {
   "codemirror_mode": {
    "name": "ipython",
    "version": 3
   },
   "file_extension": ".py",
   "mimetype": "text/x-python",
   "name": "python",
   "nbconvert_exporter": "python",
   "pygments_lexer": "ipython3",
   "version": "3.9.13"
  }
 },
 "nbformat": 4,
 "nbformat_minor": 5
}
